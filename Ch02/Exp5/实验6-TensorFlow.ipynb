{
 "cells": [
  {
   "attachments": {},
   "cell_type": "markdown",
   "metadata": {},
   "source": [
    "# 实验6 TensorFlow\n",
    "\n",
    "从本次实验开始，你将探索一个名为TensorFlow的DL框架，它使得构建NN更加容易，类似的框架还有 PaddlePaddle, Torch, Caffe, Keras 等。\n",
    "\n",
    "目标：使用TensorFlow 2.3进行如下操作\n",
    "* 使用 `tf.Variable` 来表示变量\n",
    "* 了解变量和常量的差别\n",
    "* 使用TensorFlow来加速DL编程开发\n",
    "* 在一个TensorFlow数据集上训练NN\n",
    "\n",
    "可以使用 `pip install tensorflow==2.3` 来下载安装指定版本的TensorFlow"
   ]
  },
  {
   "attachments": {},
   "cell_type": "markdown",
   "metadata": {
    "collapsed": false
   },
   "source": [
    "<a name='1'></a>\n",
    "## 1 - 包"
   ]
  },
  {
   "cell_type": "code",
   "execution_count": 1,
   "metadata": {
    "collapsed": false
   },
   "outputs": [],
   "source": [
    "import h5py\n",
    "import numpy as np\n",
    "import tensorflow as tf\n",
    "import matplotlib.pyplot as plt\n",
    "from tensorflow.python.framework.ops import EagerTensor\n",
    "from tensorflow.python.ops.resource_variable_ops import ResourceVariable\n",
    "import time"
   ]
  },
  {
   "attachments": {},
   "cell_type": "markdown",
   "metadata": {
    "collapsed": false
   },
   "source": [
    "<a name='1-1'></a>\n",
    "### 1.1 - 检查 TensorFlow 版本\n",
    "本次实验中使用的tensorflow版本为 v2.3，下面的代码将打印输出其版本号"
   ]
  },
  {
   "cell_type": "code",
   "execution_count": 2,
   "metadata": {
    "collapsed": false
   },
   "outputs": [
    {
     "data": {
      "text/plain": [
       "'2.3.0'"
      ]
     },
     "execution_count": 2,
     "metadata": {},
     "output_type": "execute_result"
    }
   ],
   "source": [
    "tf.__version__"
   ]
  },
  {
   "attachments": {},
   "cell_type": "markdown",
   "metadata": {
    "collapsed": false
   },
   "source": [
    "<a name='2'></a>\n",
    "## 2 - 使用GradientTape进行基本的优化\n",
    "\n",
    "第二代TensorFlow的使用非常简洁. 仅需实现前向传播（TensorFlow将依据GradientTape中的记录信息自动计算梯度，并根据计算图进行反向传播），指定代价函数和优化器!\n",
    "\n",
    "类似Numpy中的arrays对象，在TensorFlow中使用`tf.Tensor`来表示多维数组\n",
    "\n",
    "下面，你将使用 `tf.Variable` 来存储你的变量，并在初始化时定义其形状和类型.\n",
    "通过 `tf.Variable` 的构造函数中的 `dtype` 参数可以指定变量的类型."
   ]
  },
  {
   "attachments": {},
   "cell_type": "markdown",
   "metadata": {
    "collapsed": false
   },
   "source": [
    "### 2.0 - 数据集\n",
    "下面的代码将从HDF5文件读取实验要使用的 TensorFlow 数据集，这是一个手势数据集, 包含分辨率为64x64x3的图片"
   ]
  },
  {
   "cell_type": "code",
   "execution_count": 3,
   "metadata": {
    "collapsed": false
   },
   "outputs": [],
   "source": [
    "train_dataset = h5py.File('datasets/train_signs.h5', \"r\")\n",
    "test_dataset = h5py.File('datasets/test_signs.h5', \"r\")"
   ]
  },
  {
   "cell_type": "code",
   "execution_count": 4,
   "metadata": {
    "collapsed": false
   },
   "outputs": [],
   "source": [
    "x_train = tf.data.Dataset.from_tensor_slices(train_dataset['train_set_x'])\n",
    "y_train = tf.data.Dataset.from_tensor_slices(train_dataset['train_set_y'])\n",
    "\n",
    "x_test = tf.data.Dataset.from_tensor_slices(test_dataset['test_set_x'])\n",
    "y_test = tf.data.Dataset.from_tensor_slices(test_dataset['test_set_y'])"
   ]
  },
  {
   "cell_type": "code",
   "execution_count": 5,
   "metadata": {
    "collapsed": false
   },
   "outputs": [
    {
     "data": {
      "text/plain": [
       "tensorflow.python.data.ops.dataset_ops.TensorSliceDataset"
      ]
     },
     "execution_count": 5,
     "metadata": {},
     "output_type": "execute_result"
    }
   ],
   "source": [
    "type(x_train)"
   ]
  },
  {
   "attachments": {},
   "cell_type": "markdown",
   "metadata": {
    "collapsed": false
   },
   "source": [
    "你可以通过for循环来访问tensorflow数据集中的数据, 或者使用`iter`来创建一个Python的迭代器，并通过`next`来访问下一个元素.\n",
    "你也可以通过`element_spec`属性来查看各个元素的`shape` 和 `dtype`。"
   ]
  },
  {
   "cell_type": "code",
   "execution_count": 6,
   "metadata": {
    "collapsed": false
   },
   "outputs": [
    {
     "name": "stdout",
     "output_type": "stream",
     "text": [
      "TensorSpec(shape=(), dtype=tf.int64, name=None)\n"
     ]
    }
   ],
   "source": [
    "print(y_train.element_spec)"
   ]
  },
  {
   "cell_type": "code",
   "execution_count": 7,
   "metadata": {
    "collapsed": false
   },
   "outputs": [
    {
     "name": "stdout",
     "output_type": "stream",
     "text": [
      "tf.Tensor(\n",
      "[[[227 220 214]\n",
      "  [227 221 215]\n",
      "  [227 222 215]\n",
      "  ...\n",
      "  [232 230 224]\n",
      "  [231 229 222]\n",
      "  [230 229 221]]\n",
      "\n",
      " [[227 221 214]\n",
      "  [227 221 215]\n",
      "  [228 221 215]\n",
      "  ...\n",
      "  [232 230 224]\n",
      "  [231 229 222]\n",
      "  [231 229 221]]\n",
      "\n",
      " [[227 221 214]\n",
      "  [227 221 214]\n",
      "  [227 221 215]\n",
      "  ...\n",
      "  [232 230 224]\n",
      "  [231 229 223]\n",
      "  [230 229 221]]\n",
      "\n",
      " ...\n",
      "\n",
      " [[119  81  51]\n",
      "  [124  85  55]\n",
      "  [127  87  58]\n",
      "  ...\n",
      "  [210 211 211]\n",
      "  [211 212 210]\n",
      "  [210 211 210]]\n",
      "\n",
      " [[119  79  51]\n",
      "  [124  84  55]\n",
      "  [126  85  56]\n",
      "  ...\n",
      "  [210 211 210]\n",
      "  [210 211 210]\n",
      "  [209 210 209]]\n",
      "\n",
      " [[119  81  51]\n",
      "  [123  83  55]\n",
      "  [122  82  54]\n",
      "  ...\n",
      "  [209 210 210]\n",
      "  [209 210 209]\n",
      "  [208 209 209]]], shape=(64, 64, 3), dtype=uint8)\n"
     ]
    }
   ],
   "source": [
    "print(next(iter(x_train)))"
   ]
  },
  {
   "cell_type": "code",
   "execution_count": 8,
   "metadata": {
    "collapsed": false
   },
   "outputs": [
    {
     "name": "stdout",
     "output_type": "stream",
     "text": [
      "tf.Tensor(\n",
      "[[[227 220 214]\n",
      "  [227 221 215]\n",
      "  [227 222 215]\n",
      "  ...\n",
      "  [232 230 224]\n",
      "  [231 229 222]\n",
      "  [230 229 221]]\n",
      "\n",
      " [[227 221 214]\n",
      "  [227 221 215]\n",
      "  [228 221 215]\n",
      "  ...\n",
      "  [232 230 224]\n",
      "  [231 229 222]\n",
      "  [231 229 221]]\n",
      "\n",
      " [[227 221 214]\n",
      "  [227 221 214]\n",
      "  [227 221 215]\n",
      "  ...\n",
      "  [232 230 224]\n",
      "  [231 229 223]\n",
      "  [230 229 221]]\n",
      "\n",
      " ...\n",
      "\n",
      " [[119  81  51]\n",
      "  [124  85  55]\n",
      "  [127  87  58]\n",
      "  ...\n",
      "  [210 211 211]\n",
      "  [211 212 210]\n",
      "  [210 211 210]]\n",
      "\n",
      " [[119  79  51]\n",
      "  [124  84  55]\n",
      "  [126  85  56]\n",
      "  ...\n",
      "  [210 211 210]\n",
      "  [210 211 210]\n",
      "  [209 210 209]]\n",
      "\n",
      " [[119  81  51]\n",
      "  [123  83  55]\n",
      "  [122  82  54]\n",
      "  ...\n",
      "  [209 210 210]\n",
      "  [209 210 209]\n",
      "  [208 209 209]]], shape=(64, 64, 3), dtype=uint8)\n"
     ]
    }
   ],
   "source": [
    "for element in x_train:\n",
    "    print(element)\n",
    "    break"
   ]
  },
  {
   "attachments": {},
   "cell_type": "markdown",
   "metadata": {
    "collapsed": false
   },
   "source": [
    "如果要对TensorFlow数据集进行转换，需要使用 `map` 方法（如下所示）"
   ]
  },
  {
   "cell_type": "code",
   "execution_count": 9,
   "metadata": {
    "collapsed": false
   },
   "outputs": [],
   "source": [
    "\"\"\"\n",
    "Function：\n",
    "    Transform an image into a tensor of shape (64 * 64 * 3, 1)\n",
    "    and normalize its components.\n",
    "Arguments：\n",
    "    image - Tensor.\n",
    "Returns:\n",
    "    result -- Transformed tensor\n",
    "\"\"\"\n",
    "def normalize(image):\n",
    "    image = tf.cast(image, tf.float32) / 256.0\n",
    "    image = tf.reshape(image, [-1,1])\n",
    "    return image"
   ]
  },
  {
   "cell_type": "code",
   "execution_count": 10,
   "metadata": {
    "collapsed": false
   },
   "outputs": [],
   "source": [
    "new_train = x_train.map(normalize)\n",
    "new_test = x_test.map(normalize)"
   ]
  },
  {
   "cell_type": "code",
   "execution_count": 11,
   "metadata": {
    "collapsed": false
   },
   "outputs": [
    {
     "data": {
      "text/plain": [
       "TensorSpec(shape=(12288, 1), dtype=tf.float32, name=None)"
      ]
     },
     "execution_count": 11,
     "metadata": {},
     "output_type": "execute_result"
    }
   ],
   "source": [
    "new_train.element_spec"
   ]
  },
  {
   "cell_type": "code",
   "execution_count": 12,
   "metadata": {
    "collapsed": false
   },
   "outputs": [
    {
     "name": "stdout",
     "output_type": "stream",
     "text": [
      "tf.Tensor(\n",
      "[[0.88671875]\n",
      " [0.859375  ]\n",
      " [0.8359375 ]\n",
      " ...\n",
      " [0.8125    ]\n",
      " [0.81640625]\n",
      " [0.81640625]], shape=(12288, 1), dtype=float32)\n"
     ]
    }
   ],
   "source": [
    "print(next(iter(new_train)))"
   ]
  },
  {
   "attachments": {},
   "cell_type": "markdown",
   "metadata": {
    "collapsed": false
   },
   "source": [
    "<a name='2-1'></a>\n",
    "### 2.1 - 线性函数\n",
    "\n",
    "让我们计算: $Y = WX + b$, 其中 $W$ 和 $X$ 是随机矩阵，b 是一个随机向量\n",
    "\n",
    "<a name='ex-1'></a>\n",
    "#### 练习 1 - linear_function\n",
    "\n",
    "计算 $WX + b$，其中 $W, X$, 和 $b$ 的元素值是服从正态分布的随机数. W 的形状为 (4, 3), X 为 (3,1)，b 为 (4,1).\n",
    "\n",
    "*提示*:\n",
    "- 下面的代码可以定义一个形状为(3,1)的常量X:\n",
    "```python\n",
    "X = tf.constant(np.random.randn(3,1))\n",
    "```\n",
    "`tf.constant` 和 `tf.Variable` 的区别在于：你可以改变一个`tf.Variable`的值，`tf.constant`则不行.\n",
    "- tf.matmul(..., ...) 可以用来进行矩阵相乘\n",
    "- tf.add(..., ...) 可以用来做加法\n",
    "- np.random.randn(...) 可以用来随机初始化"
   ]
  },
  {
   "cell_type": "code",
   "execution_count": 13,
   "metadata": {
    "collapsed": false
   },
   "outputs": [],
   "source": [
    "\"\"\"\n",
    "Function：\n",
    "    Implements a linear function:\n",
    "        Initializes X to be a random tensor of shape (3,1)\n",
    "        Initializes W to be a random tensor of shape (4,3)\n",
    "        Initializes b to be a random tensor of shape (4,1)\n",
    "Returns:\n",
    "    result -- Y = WX + b\n",
    "\"\"\"\n",
    "def linear_function():\n",
    "    np.random.seed(1)\n",
    "    \"\"\"\n",
    "    Note, to ensure that the \"random\" numbers generated match the expected results,\n",
    "    please create the variables in the order given in the starting code below.\n",
    "    (Do not re-arrange the order).\n",
    "    \"\"\"\n",
    "    # (approx. 4 lines)\n",
    "    # X = ...\n",
    "    # W = ...\n",
    "    # b = ...\n",
    "    # Y = ...\n",
    "    # YOUR CODE STARTS HERE\n",
    "    X = tf.constant(np.random.randn(3,1), name = \"X\")\n",
    "    W = tf.Variable(np.random.randn(4,3), name = \"X\")\n",
    "    b = tf.Variable(np.random.randn(4,1), name = \"X\")\n",
    "    Y = W@X + b \n",
    "    # YOUR CODE ENDS HERE\n",
    "    return Y"
   ]
  },
  {
   "cell_type": "code",
   "execution_count": 14,
   "metadata": {
    "collapsed": false
   },
   "outputs": [
    {
     "name": "stdout",
     "output_type": "stream",
     "text": [
      "tf.Tensor(\n",
      "[[-2.15657382]\n",
      " [ 2.95891446]\n",
      " [-1.08926781]\n",
      " [-0.84538042]], shape=(4, 1), dtype=float64)\n",
      "\u001b[92mAll test passed\n"
     ]
    }
   ],
   "source": [
    "result = linear_function()\n",
    "print(result)\n",
    "\n",
    "assert type(result) == EagerTensor, \"Use the TensorFlow API\"\n",
    "assert np.allclose(result, [[-2.15657382], [ 2.95891446], [-1.08926781], [-0.84538042]]), \"Error\"\n",
    "print(\"\\033[92mAll test passed\")\n"
   ]
  },
  {
   "attachments": {},
   "cell_type": "markdown",
   "metadata": {
    "collapsed": false
   },
   "source": [
    "<a name='2-2'></a>\n",
    "### 2.2 - 计算Sigmoid\n",
    "TensorFlow 提供了NN中各种各样会用到的函数，例如`tf.sigmoid` 和 `tf.softmax`.\n",
    "接下来你将实现计算z的sigmoid值，首先需要使用`tf.cast`将你的张量转换为`float32` 类型 , 然后调用 `tf.keras.activations.sigmoid`完成计算.\n",
    "\n",
    "<a name='ex-2'></a>\n",
    "#### 练习 2 - sigmoid\n",
    "\n",
    "通过2步实现sigmoid函数:\n",
    "1. 数据转换 `tf.cast(\"...\", tf.float32)`\n",
    "2. 函数调用 `tf.keras.activations.sigmoid(\"...\")`"
   ]
  },
  {
   "cell_type": "code",
   "execution_count": 16,
   "metadata": {
    "collapsed": false
   },
   "outputs": [],
   "source": [
    "\"\"\"\n",
    "Function：\n",
    "    Computes the sigmoid of z\n",
    "Arguments:\n",
    "    z -- input value, scalar or vector\n",
    "Returns:\n",
    "    a -- (tf.float32) the sigmoid of z\n",
    "\"\"\"\n",
    "def sigmoid(z):\n",
    "    # tf.keras.activations.sigmoid requires float16, float32, float64, complex64, or complex128.\n",
    "    # (approx. 2 lines)\n",
    "    # z = ...\n",
    "    # a = ...\n",
    "    # YOUR CODE STARTS HERE\n",
    "    z = tf.cast(z, tf.float32)\n",
    "    a = tf.keras.activations.sigmoid(z)\n",
    "    # YOUR CODE ENDS HERE\n",
    "    return a\n"
   ]
  },
  {
   "cell_type": "code",
   "execution_count": 17,
   "metadata": {
    "collapsed": false
   },
   "outputs": [
    {
     "name": "stdout",
     "output_type": "stream",
     "text": [
      "type: <class 'tensorflow.python.framework.ops.EagerTensor'>\n",
      "dtype: <dtype: 'float32'>\n",
      "sigmoid(-1) = tf.Tensor(0.26894143, shape=(), dtype=float32)\n",
      "sigmoid(0) = tf.Tensor(0.5, shape=(), dtype=float32)\n",
      "sigmoid(12) = tf.Tensor(0.9999939, shape=(), dtype=float32)\n",
      "\u001b[92mAll test passed\n"
     ]
    }
   ],
   "source": [
    "result = sigmoid(-1)\n",
    "print (\"type: \" + str(type(result)))\n",
    "print (\"dtype: \" + str(result.dtype))\n",
    "print (\"sigmoid(-1) = \" + str(result))\n",
    "print (\"sigmoid(0) = \" + str(sigmoid(0.0)))\n",
    "print (\"sigmoid(12) = \" + str(sigmoid(12)))\n",
    "\n",
    "def sigmoid_test(target):\n",
    "    result = target(0)\n",
    "    assert(type(result) == EagerTensor)\n",
    "    assert (result.dtype == tf.float32)\n",
    "    assert sigmoid(0) == 0.5, \"Error\"\n",
    "    assert sigmoid(-1) == 0.26894143, \"Error\"\n",
    "    assert sigmoid(12) == 0.9999939, \"Error\"\n",
    "\n",
    "    print(\"\\033[92mAll test passed\")\n",
    "\n",
    "sigmoid_test(sigmoid)"
   ]
  },
  {
   "attachments": {},
   "cell_type": "markdown",
   "metadata": {
    "collapsed": false
   },
   "source": [
    "<a name='2-3'></a>\n",
    "### 2.3 - 使用 One Hot 编码\n",
    "\n",
    "在之前的分类例子中，多个样本的标签$Y$通常被表示为一个取值$0$ 到 $C-1$的向量（$C$为类别数）。下图展示了将一个类别数为4的$Y$转换为名为\"one hot\"编码数据的结果。\n",
    "\n",
    "<img src=\"images/onehot.png\" width=1000>\n",
    "\n",
    "要在numpy中实现该编码需要较多的代码，在TensorFlow则仅需一行代码:\n",
    "\n",
    "- [tf.one_hot(labels, depth, axis=0)](https://www.tensorflow.org/api_docs/python/tf/one_hot)\n",
    "\n",
    "当`axis=0`时，其输出数据的尺寸为 depth * len(labels)\n",
    "\n",
    "<a name='ex-3'></a>\n",
    "#### 练习 3 - one_hot_matrix\n",
    "\n",
    "实现一个函数，其参数为一个标签和类别数$C$，返回列式的one hot编码矩阵（仅有1列）.\n",
    "*提示*：\n",
    "- 使用`tf.one_hot()`进行one hot编码\n",
    "- 使用`tf.reshape(tensor, shape)` 改变矩阵形状!"
   ]
  },
  {
   "cell_type": "code",
   "execution_count": 20,
   "metadata": {
    "collapsed": false
   },
   "outputs": [],
   "source": [
    "\"\"\"\n",
    "Function：\n",
    "    Computes the one hot encoding for a single label\n",
    "Arguments:\n",
    "    label --  (int) Categorical labels\n",
    "    depth --  (int) Number of different classes that label can take\n",
    "Returns:\n",
    "    one_hot -- (tf.Tensor) A single-column matrix with the one hot encoding.\n",
    "\"\"\"\n",
    "def one_hot_matrix(label, depth=6):\n",
    "    # (approx. 1 line)\n",
    "    # one_hot = ...\n",
    "    # YOUR CODE STARTS HERE\n",
    "    one_hot = tf.reshape(tf.one_hot(label, depth, axis=0), [depth,1])\n",
    "    # YOUR CODE ENDS HERE\n",
    "    return one_hot"
   ]
  },
  {
   "cell_type": "code",
   "execution_count": 21,
   "metadata": {
    "collapsed": false
   },
   "outputs": [
    {
     "name": "stdout",
     "output_type": "stream",
     "text": [
      "tf.Tensor(\n",
      "[[0.]\n",
      " [1.]\n",
      " [0.]\n",
      " [0.]], shape=(4, 1), dtype=float32)\n",
      "\u001b[92mAll test passed\n"
     ]
    }
   ],
   "source": [
    "def one_hot_matrix_test(target):\n",
    "    label = tf.constant(1)\n",
    "    depth = 4\n",
    "    result = target(label, depth)\n",
    "    print(result)\n",
    "    assert result.shape[0] == depth, \"Use the parameter depth\"\n",
    "    assert result.shape[1] == 1, f\"Reshape to have only 1 column\"\n",
    "    assert np.allclose(result,  [[0.], [1.], [0.], [0.]] ), \"Wrong output. Use tf.one_hot\"\n",
    "    result = target(3, depth)\n",
    "    assert np.allclose(result, [[0.], [0.], [0.], [1.]] ), \"Wrong output. Use tf.one_hot\"\n",
    "\n",
    "    print(\"\\033[92mAll test passed\")\n",
    "\n",
    "one_hot_matrix_test(one_hot_matrix)"
   ]
  },
  {
   "attachments": {},
   "cell_type": "markdown",
   "metadata": {
    "collapsed": false
   },
   "source": [
    "查看转换后的数据"
   ]
  },
  {
   "cell_type": "code",
   "execution_count": 22,
   "metadata": {},
   "outputs": [],
   "source": [
    "new_y_test = y_test.map(one_hot_matrix)\n",
    "new_y_train = y_train.map(one_hot_matrix)"
   ]
  },
  {
   "cell_type": "code",
   "execution_count": 23,
   "metadata": {},
   "outputs": [
    {
     "name": "stdout",
     "output_type": "stream",
     "text": [
      "tf.Tensor(\n",
      "[[1.]\n",
      " [0.]\n",
      " [0.]\n",
      " [0.]\n",
      " [0.]\n",
      " [0.]], shape=(6, 1), dtype=float32)\n"
     ]
    }
   ],
   "source": [
    "print(next(iter(new_y_test)))"
   ]
  },
  {
   "attachments": {},
   "cell_type": "markdown",
   "metadata": {},
   "source": [
    "<a name='2-4'></a>\n",
    "### 2.4 - 参数初始化\n",
    "\n",
    "你将初始化一个取值[0,1]的向量，所调用的函数为 `tf.keras.initializers.GlorotNormal`, 其生成的随机数服从均值为0、标准差`stddev = sqrt(2 / (fan_in + fan_out))`的截断的正态分布，其中 `fan_in` 和 `fan_out` 分别表示输入、输出单元的个数\n",
    "\n",
    "全0或全1初始化可使用 `tf.zeros()` or `tf.ones()`.\n",
    "\n",
    "<a name='ex-4'></a>\n",
    "#### 练习 4 - initialize_parameters\n",
    "\n",
    "实现下面的函数，其输入参数为形状shape，返回值为取值[-1,1]之间的数组.步骤包括：\n",
    "- `tf.keras.initializers.GlorotNormal(seed=1)`\n",
    "- `tf.Variable(initializer(shape=())`"
   ]
  },
  {
   "cell_type": "code",
   "execution_count": 24,
   "metadata": {
    "deletable": false,
    "nbgrader": {
     "cell_type": "code",
     "checksum": "da48416c74797c83152e1080b08afb9d",
     "grade": false,
     "grade_id": "cell-1d5716c48a16debf",
     "locked": false,
     "schema_version": 3,
     "solution": true,
     "task": false
    }
   },
   "outputs": [],
   "source": [
    "\"\"\"\n",
    "Function：\n",
    "    Initializes parameters to build a neural network with TensorFlow. The shapes are:\n",
    "        W1 : [25, 12288]\n",
    "        b1 : [25, 1]\n",
    "        W2 : [12, 25]\n",
    "        b2 : [12, 1]\n",
    "        W3 : [6, 12]\n",
    "        b3 : [6, 1]\n",
    "Returns:\n",
    "    parameters -- a dictionary of tensors containing W1, b1, W2, b2, W3, b3\n",
    "\"\"\"\n",
    "def initialize_parameters():\n",
    "    initializer = tf.keras.initializers.GlorotNormal(seed=1)   \n",
    "    #(approx. 6 lines of code)\n",
    "    # W1 = ...\n",
    "    # b1 = ...\n",
    "    # W2 = ...\n",
    "    # b2 = ...\n",
    "    # W3 = ...\n",
    "    # b3 = ...\n",
    "    # YOUR CODE STARTS HERE\n",
    "    W1 = tf.Variable(initializer(shape=([25, 12288])))\n",
    "    b1 = tf.Variable(initializer(shape=([25, 1])))\n",
    "    W2 = tf.Variable(initializer(shape=([12, 25])))\n",
    "    b2 = tf.Variable(initializer(shape=([12, 1])))\n",
    "    W3 = tf.Variable(initializer(shape=([6, 12])))\n",
    "    b3 = tf.Variable(initializer(shape=([6, 1])))\n",
    "    # YOUR CODE ENDS HERE\n",
    "\n",
    "    parameters = {\"W1\": W1,\n",
    "                  \"b1\": b1,\n",
    "                  \"W2\": W2,\n",
    "                  \"b2\": b2,\n",
    "                  \"W3\": W3,\n",
    "                  \"b3\": b3}\n",
    "    \n",
    "    return parameters"
   ]
  },
  {
   "cell_type": "code",
   "execution_count": 25,
   "metadata": {
    "deletable": false,
    "editable": false,
    "nbgrader": {
     "cell_type": "code",
     "checksum": "dd3fe0b5ed777771156c071d9373e47a",
     "grade": true,
     "grade_id": "cell-11012e1fada40919",
     "locked": true,
     "points": 10,
     "schema_version": 3,
     "solution": false,
     "task": false
    }
   },
   "outputs": [
    {
     "name": "stdout",
     "output_type": "stream",
     "text": [
      "W1 shape: (25, 12288)\n",
      "b1 shape: (25, 1)\n",
      "W2 shape: (12, 25)\n",
      "b2 shape: (12, 1)\n",
      "W3 shape: (6, 12)\n",
      "b3 shape: (6, 1)\n",
      "\u001b[92mAll test passed\n"
     ]
    }
   ],
   "source": [
    "def initialize_parameters_test(target):\n",
    "    parameters = target()\n",
    "\n",
    "    values = {\"W1\": (25, 12288),\n",
    "              \"b1\": (25, 1),\n",
    "              \"W2\": (12, 25),\n",
    "              \"b2\": (12, 1),\n",
    "              \"W3\": (6, 12),\n",
    "              \"b3\": (6, 1)}\n",
    "\n",
    "    for key in parameters:\n",
    "        print(f\"{key} shape: {tuple(parameters[key].shape)}\")\n",
    "        assert type(parameters[key]) == ResourceVariable, \"All parameter must be created using tf.Variable\"\n",
    "        assert tuple(parameters[key].shape) == values[key], f\"{key}: wrong shape\"\n",
    "        assert np.abs(np.mean(parameters[key].numpy())) < 0.5,  f\"{key}: Use the GlorotNormal initializer\"\n",
    "        assert np.std(parameters[key].numpy()) > 0 and np.std(parameters[key].numpy()) < 1, f\"{key}: Use the GlorotNormal initializer\"\n",
    "\n",
    "    print(\"\\033[92mAll test passed\")\n",
    "    \n",
    "initialize_parameters_test(initialize_parameters)"
   ]
  },
  {
   "cell_type": "code",
   "execution_count": 26,
   "metadata": {},
   "outputs": [],
   "source": [
    "parameters = initialize_parameters()"
   ]
  },
  {
   "attachments": {},
   "cell_type": "markdown",
   "metadata": {},
   "source": [
    "<a name='3'></a>\n",
    "## 3 - 使用TensorFlow构建你的第一个NN\n",
    "\n",
    "需要做两部分工作：\n",
    "- 实现前向传播\n",
    "- 检索得到梯度并训练模型"
   ]
  },
  {
   "attachments": {},
   "cell_type": "markdown",
   "metadata": {},
   "source": [
    "<a name='3-1'></a>\n",
    "### 3.1 - 实现前向传播\n",
    "\n",
    "你将使用 `@tf.function`, 它将构建一个计算图，以便计算梯度用于反向传播.\n",
    "\n",
    "<a name='ex-5'></a>\n",
    "#### 练习 5 - forward_propagation\n",
    "\n",
    "实现 `forward_propagation` 函数.\n",
    "\n",
    "**注意**\n",
    "仅使用TF的API接口，包括：\n",
    "- tf.math.add\n",
    "- tf.linalg.matmul\n",
    "- tf.keras.activations.relu"
   ]
  },
  {
   "cell_type": "code",
   "execution_count": 27,
   "metadata": {
    "deletable": false,
    "nbgrader": {
     "cell_type": "code",
     "checksum": "7c3d7c28e47e314c17d3f35e5a033b15",
     "grade": false,
     "grade_id": "cell-23b6d82b3443e298",
     "locked": false,
     "schema_version": 3,
     "solution": true,
     "task": false
    }
   },
   "outputs": [],
   "source": [
    "\"\"\"\n",
    "Function：\n",
    "    Implements the forward propagation for the model: LINEAR -> RELU -> LINEAR -> RELU -> LINEAR\n",
    "Arguments:\n",
    "    X -- input dataset placeholder, of shape (input size, number of examples)\n",
    "    parameters -- python dictionary containing your parameters \"W1\", \"b1\", \"W2\", \"b2\", \"W3\", \"b3\"\n",
    "                  the shapes are given in initialize_parameters\n",
    "Returns:\n",
    "    Z3 -- the output of the last LINEAR unit\n",
    "\"\"\"\n",
    "@tf.function\n",
    "def forward_propagation(X, parameters):\n",
    "    # Retrieve the parameters from the dictionary \"parameters\" \n",
    "    W1 = parameters['W1']\n",
    "    b1 = parameters['b1']\n",
    "    W2 = parameters['W2']\n",
    "    b2 = parameters['b2']\n",
    "    W3 = parameters['W3']\n",
    "    b3 = parameters['b3']\n",
    "    #(approx. 5 lines)                   # Numpy Equivalents:\n",
    "    # Z1 = ...                           # Z1 = np.dot(W1, X) + b1\n",
    "    # A1 = ...                           # A1 = relu(Z1)\n",
    "    # Z2 = ...                           # Z2 = np.dot(W2, A1) + b2\n",
    "    # A2 = ...                           # A2 = relu(Z2)\n",
    "    # Z3 = ...                           # Z3 = np.dot(W3, A2) + b3\n",
    "    # YOUR CODE STARTS HERE\n",
    "    Z1 = tf.math.add(tf.linalg.matmul(W1,X), b1)                          \n",
    "    A1 = tf.keras.activations.relu(Z1)                                     \n",
    "    Z2 = tf.math.add(tf.linalg.matmul(W2,A1), b2)                                   \n",
    "    A2 = tf.keras.activations.relu(Z2)                                       \n",
    "    Z3 = tf.math.add(tf.linalg.matmul(W3,A2), b3)\n",
    "    # YOUR CODE ENDS HERE\n",
    "    return Z3"
   ]
  },
  {
   "cell_type": "code",
   "execution_count": 28,
   "metadata": {
    "deletable": false,
    "editable": false,
    "nbgrader": {
     "cell_type": "code",
     "checksum": "204b6a74e3c6cbdb3654bdb2ed8f13af",
     "grade": true,
     "grade_id": "cell-728b002a6a88ceb1",
     "locked": true,
     "points": 0,
     "schema_version": 3,
     "solution": false,
     "task": false
    }
   },
   "outputs": [
    {
     "name": "stdout",
     "output_type": "stream",
     "text": [
      "WARNING:tensorflow:AutoGraph could not transform <function forward_propagation at 0x0000026058B22A60> and will run it as-is.\n",
      "Please report this to the TensorFlow team. When filing the bug, set the verbosity to 10 (on Linux, `export AUTOGRAPH_VERBOSITY=10`) and attach the full output.\n",
      "Cause: module 'gast' has no attribute 'Index'\n",
      "To silence this warning, decorate the function with @tf.autograph.experimental.do_not_convert\n",
      "WARNING: AutoGraph could not transform <function forward_propagation at 0x0000026058B22A60> and will run it as-is.\n",
      "Please report this to the TensorFlow team. When filing the bug, set the verbosity to 10 (on Linux, `export AUTOGRAPH_VERBOSITY=10`) and attach the full output.\n",
      "Cause: module 'gast' has no attribute 'Index'\n",
      "To silence this warning, decorate the function with @tf.autograph.experimental.do_not_convert\n",
      "tf.Tensor(\n",
      "[[-0.13082099]\n",
      " [ 0.21228725]\n",
      " [ 0.7050022 ]\n",
      " [-1.1224037 ]\n",
      " [-0.2038675 ]\n",
      " [ 0.95262194]], shape=(6, 1), dtype=float32)\n",
      "\u001b[92mAll test passed\n"
     ]
    }
   ],
   "source": [
    "def forward_propagation_test(target, examples):\n",
    "    for batch in examples:\n",
    "        forward_pass = target(batch, parameters)\n",
    "        assert type(forward_pass) == EagerTensor, \"Your output is not a tensor\"\n",
    "        assert forward_pass.shape == (6, 1), \"Last layer must use W3 and b3\"\n",
    "        assert np.any(forward_pass < 0), \"Don't use a ReLu layer at end of your network\"\n",
    "        assert np.allclose(forward_pass, \n",
    "                           [[-0.13082162],\n",
    "                           [ 0.21228778],\n",
    "                           [ 0.7050022 ],\n",
    "                           [-1.1224034 ],\n",
    "                           [-0.20386729],\n",
    "                           [ 0.9526217 ]]), \"Output does not match\"\n",
    "        print(forward_pass)\n",
    "        break\n",
    "    \n",
    "\n",
    "    print(\"\\033[92mAll test passed\")\n",
    "\n",
    "forward_propagation_test(forward_propagation, new_train)"
   ]
  },
  {
   "attachments": {},
   "cell_type": "markdown",
   "metadata": {},
   "source": [
    "<a name='3-2'></a>\n",
    "### 3.2 计算代价\n",
    "\n",
    "下面的代码展示了计算代价函数的一种方式\n",
    "\n",
    "`tf.reduce_mean(tf.keras.losses.binary_crossentropy(y_true = ..., y_pred = ..., from_logits=True))`\n",
    "\n",
    "<a name='ex-6'></a>\n",
    "#### 练习 6 -  compute_cost\n",
    "\n",
    "实现下面的代价函数\n",
    "- 需要特别注意的是[tf.keras.losses.binary_crossentropy](https://www.tensorflow.org/api_docs/python/tf/keras/losses/binary_crossentropy) 的输入\"`y_pred`\" 和 \"`y_true`\"，其形状应该是 (number of examples, num_classes).\n",
    "- `tf.reduce_mean` 用于计算tensor沿着指定的数轴上的平均值."
   ]
  },
  {
   "cell_type": "code",
   "execution_count": 29,
   "metadata": {
    "deletable": false,
    "nbgrader": {
     "cell_type": "code",
     "checksum": "af252bad785c3ddf4a55fa7bc999477a",
     "grade": false,
     "grade_id": "cell-e6cc4d7fefeed231",
     "locked": false,
     "schema_version": 3,
     "solution": true,
     "task": false
    }
   },
   "outputs": [],
   "source": [
    "\"\"\"\n",
    "Function：\n",
    "    Computes the cost\n",
    "Arguments:\n",
    "    logits -- output of forward propagation (output of the last LINEAR unit), of shape (6, number of examples)\n",
    "    labels -- \"true\" labels vector, same shape as Z3\n",
    "Returns:\n",
    "    cost - Tensor of the cost function\n",
    "\"\"\"\n",
    "@tf.function\n",
    "def compute_cost(logits, labels):\n",
    "    #(1 line of code)\n",
    "    # cost = ...\n",
    "    # YOUR CODE STARTS HERE\n",
    "    cost = tf.reduce_mean(tf.keras.losses.binary_crossentropy(y_true = labels, y_pred = logits, from_logits=True))\n",
    "    # YOUR CODE ENDS HERE\n",
    "    return cost"
   ]
  },
  {
   "cell_type": "code",
   "execution_count": 30,
   "metadata": {
    "deletable": false,
    "editable": false,
    "nbgrader": {
     "cell_type": "code",
     "checksum": "938580c5cbcf49a72c1fdcda782cfd8a",
     "grade": true,
     "grade_id": "cell-9bf72affa2e7b1b5",
     "locked": true,
     "points": 10,
     "schema_version": 3,
     "solution": false,
     "task": false
    }
   },
   "outputs": [
    {
     "name": "stdout",
     "output_type": "stream",
     "text": [
      "tf.Tensor(0.8419182681095858, shape=(), dtype=float64)\n",
      "\u001b[92mAll test passed\n"
     ]
    }
   ],
   "source": [
    "def compute_cost_test(target):\n",
    "    labels = np.array([[0., 1.], [0., 0.], [1., 0.]])\n",
    "    logits = np.array([[0.6, 0.4], [0.4, 0.6], [0.4, 0.6]])\n",
    "    result = compute_cost(logits, labels)\n",
    "    print(result)\n",
    "    assert(type(result) == EagerTensor), \"Use the TensorFlow API\"\n",
    "    assert (np.abs(result - (0.7752516 +  0.9752516 + 0.7752516) / 3.0) < 1e-7), \"Test does not match. Did you get the mean of your cost functions?\"\n",
    "\n",
    "    print(\"\\033[92mAll test passed\")\n",
    "\n",
    "compute_cost_test(compute_cost)"
   ]
  },
  {
   "attachments": {},
   "cell_type": "markdown",
   "metadata": {},
   "source": [
    "<a name='3-3'></a>\n",
    "### 3.3 - 训练模型\n",
    "\n",
    "Let's talk optimizers. You'll specify the type of optimizer in one line, in this case `tf.keras.optimizers.Adam` (though you can use others such as SGD), and then call it within the training loop. \n",
    "\n",
    "Notice the `tape.gradient` function: this allows you to retrieve the operations recorded for automatic differentiation inside the `GradientTape` block. Then, calling the optimizer method `apply_gradients`, will apply the optimizer's update rules to each trainable parameter. At the end of this assignment, you'll find some documentation that explains this more in detail, but for now, a simple explanation will do. ;) \n",
    "\n",
    "\n",
    "Here you should take note of an important extra step that's been added to the batch training process: \n",
    "\n",
    "- `tf.Data.dataset = dataset.prefetch(8)` \n",
    "\n",
    "What this does is prevent a memory bottleneck that can occur when reading from disk. `prefetch()` sets aside some data and keeps it ready for when it's needed. It does this by creating a source dataset from your input data, applying a transformation to preprocess the data, then iterating over the dataset the specified number of elements at a time. This works because the iteration is streaming, so the data doesn't need to fit into the memory. "
   ]
  },
  {
   "cell_type": "code",
   "execution_count": 31,
   "metadata": {},
   "outputs": [],
   "source": [
    "\"\"\"\n",
    "Function:\n",
    "    Implements a three-layer tensorflow neural network: LINEAR->RELU->LINEAR->RELU->LINEAR->SOFTMAX.\n",
    "Arguments:\n",
    "    X_train -- training set, of shape (input size = 12288, number of training examples = 1080)\n",
    "    Y_train -- test set, of shape (output size = 6, number of training examples = 1080)\n",
    "    X_test -- training set, of shape (input size = 12288, number of training examples = 120)\n",
    "    Y_test -- test set, of shape (output size = 6, number of test examples = 120)\n",
    "    learning_rate -- learning rate of the optimization\n",
    "    num_epochs -- number of epochs of the optimization loop\n",
    "    minibatch_size -- size of a minibatch\n",
    "    print_cost -- True to print the cost every 100 epochs\n",
    "Returns:\n",
    "    parameters -- parameters learnt by the model. They can then be used to predict.\n",
    "\"\"\"\n",
    "def model(X_train, Y_train, X_test, Y_test, learning_rate = 0.0001,\n",
    "          num_epochs = 1500, minibatch_size = 32, print_cost = True):\n",
    "    costs = []     # To keep track of the cost\n",
    "    # Initialize your parameters\n",
    "    #(1 line)\n",
    "    parameters = initialize_parameters()\n",
    "\n",
    "    W1 = parameters['W1']\n",
    "    b1 = parameters['b1']\n",
    "    W2 = parameters['W2']\n",
    "    b2 = parameters['b2']\n",
    "    W3 = parameters['W3']\n",
    "    b3 = parameters['b3']\n",
    "\n",
    "    optimizer = tf.keras.optimizers.SGD(learning_rate)\n",
    "\n",
    "    X_train = X_train.batch(minibatch_size, drop_remainder=True).prefetch(8)# <<< extra step    \n",
    "    Y_train = Y_train.batch(minibatch_size, drop_remainder=True).prefetch(8) # loads memory faster \n",
    "\n",
    "    # Do the training loop\n",
    "    for epoch in range(num_epochs):\n",
    "\n",
    "        epoch_cost = 0.\n",
    "        \n",
    "        for (minibatch_X, minibatch_Y) in zip(X_train, Y_train):\n",
    "            # Select a minibatch\n",
    "            with tf.GradientTape() as tape:\n",
    "                # 1. predict\n",
    "                Z3 = forward_propagation(minibatch_X, parameters)\n",
    "                # 2. loss\n",
    "                minibatch_cost = compute_cost(Z3, minibatch_Y)\n",
    "                \n",
    "            trainable_variables = [W1, b1, W2, b2, W3, b3]\n",
    "            grads = tape.gradient(minibatch_cost, trainable_variables)\n",
    "            optimizer.apply_gradients(zip(grads, trainable_variables))\n",
    "            epoch_cost += minibatch_cost / minibatch_size\n",
    "\n",
    "        # Print the cost every epoch\n",
    "        if print_cost == True and epoch % 10 == 0:\n",
    "            print (\"Cost after epoch %i: %f\" % (epoch, epoch_cost))\n",
    "        if print_cost == True and epoch % 5 == 0:\n",
    "            costs.append(epoch_cost)\n",
    "\n",
    "    # Plot the cost\n",
    "    plt.plot(np.squeeze(costs))\n",
    "    plt.ylabel('cost')\n",
    "    plt.xlabel('iterations (per fives)')\n",
    "    plt.title(\"Learning rate =\" + str(learning_rate))\n",
    "    plt.show()\n",
    "\n",
    "    # Save the parameters in a variable\n",
    "    print (\"Parameters have been trained!\")\n",
    "\n",
    "    return parameters"
   ]
  },
  {
   "cell_type": "code",
   "execution_count": 32,
   "metadata": {},
   "outputs": [
    {
     "name": "stdout",
     "output_type": "stream",
     "text": [
      "Cost after epoch 0: 0.742591\n",
      "Cost after epoch 10: 0.614557\n",
      "Cost after epoch 20: 0.598900\n",
      "Cost after epoch 30: 0.588907\n",
      "Cost after epoch 40: 0.579898\n",
      "Cost after epoch 50: 0.570628\n",
      "Cost after epoch 60: 0.560898\n",
      "Cost after epoch 70: 0.550808\n",
      "Cost after epoch 80: 0.540497\n",
      "Cost after epoch 90: 0.488141\n",
      "Cost after epoch 100: 0.478272\n",
      "Cost after epoch 110: 0.472865\n",
      "Cost after epoch 120: 0.468991\n",
      "Cost after epoch 130: 0.466015\n",
      "Cost after epoch 140: 0.463661\n",
      "Cost after epoch 150: 0.461677\n",
      "Cost after epoch 160: 0.459951\n",
      "Cost after epoch 170: 0.458392\n",
      "Cost after epoch 180: 0.456970\n",
      "Cost after epoch 190: 0.455646\n"
     ]
    },
    {
     "data": {
      "image/png": "[encoded data removed]",
      "text/plain": [
       "<Figure size 640x480 with 1 Axes>"
      ]
     },
     "metadata": {},
     "output_type": "display_data"
    },
    {
     "name": "stdout",
     "output_type": "stream",
     "text": [
      "Parameters have been trained!\n"
     ]
    },
    {
     "data": {
      "text/plain": [
       "{'W1': <tf.Variable 'Variable:0' shape=(25, 12288) dtype=float32, numpy=\n",
       " array([[ 0.00159524, -0.00737916,  0.00893293, ..., -0.01227792,\n",
       "          0.01642205,  0.00506485],\n",
       "        [ 0.02264025,  0.0067227 ,  0.00795862, ...,  0.00284724,\n",
       "          0.01910819,  0.00122853],\n",
       "        [-0.0017358 , -0.00872449, -0.01410439, ..., -0.00733832,\n",
       "          0.02050859, -0.02683017],\n",
       "        ...,\n",
       "        [-0.00126929,  0.01729332,  0.02082342, ...,  0.01709594,\n",
       "          0.00429358, -0.00733263],\n",
       "        [ 0.00268265,  0.00410502,  0.00936712, ...,  0.01222286,\n",
       "         -0.02717603,  0.01498357],\n",
       "        [-0.00145541,  0.02459595,  0.00339064, ..., -0.02478788,\n",
       "          0.02716016, -0.00306428]], dtype=float32)>,\n",
       " 'b1': <tf.Variable 'Variable:0' shape=(25, 1) dtype=float32, numpy=\n",
       " array([[ 0.03964259],\n",
       "        [-0.15545043],\n",
       "        [ 0.19885877],\n",
       "        [-0.24874453],\n",
       "        [-0.28676733],\n",
       "        [-0.12604602],\n",
       "        [-0.01213097],\n",
       "        [ 0.14784054],\n",
       "        [-0.00413176],\n",
       "        [-0.4408978 ],\n",
       "        [ 0.5405421 ],\n",
       "        [-0.4345032 ],\n",
       "        [ 0.11763887],\n",
       "        [ 0.21523887],\n",
       "        [-0.06772608],\n",
       "        [-0.1642928 ],\n",
       "        [-0.0525962 ],\n",
       "        [-0.184795  ],\n",
       "        [-0.00280256],\n",
       "        [-0.06777475],\n",
       "        [ 0.09226809],\n",
       "        [ 0.02067652],\n",
       "        [-0.05682073],\n",
       "        [ 0.37065938],\n",
       "        [ 0.21586621]], dtype=float32)>,\n",
       " 'W2': <tf.Variable 'Variable:0' shape=(12, 25) dtype=float32, numpy=\n",
       " array([[ 0.03270398, -0.13031   ,  0.16566682, -0.20850259, -0.2404858 ,\n",
       "         -0.10598166, -0.01016674,  0.12317107, -0.00411659, -0.3709333 ,\n",
       "          0.45312327, -0.36423257,  0.09766971,  0.18042907, -0.05753208,\n",
       "         -0.13796303, -0.04518652, -0.15597364, -0.00236228, -0.05681378,\n",
       "          0.07734591,  0.01733258, -0.04763132,  0.31054643,  0.18095495],\n",
       "        [ 0.2750061 ,  0.0652916 ,  0.1927715 ,  0.00808901, -0.35061082,\n",
       "         -0.04379591,  0.00529772,  0.14074577, -0.22700588, -0.08254343,\n",
       "         -0.10437229, -0.27877635, -0.22737703, -0.15467171, -0.30434495,\n",
       "          0.4284151 ,  0.04013151,  0.14082794,  0.40803385,  0.19127996,\n",
       "         -0.08289494,  0.19833343, -0.18854785,  0.11045358, -0.10293514],\n",
       "        [ 0.07370563,  0.12879197, -0.3804876 , -0.1428371 , -0.16866723,\n",
       "         -0.12560502,  0.08047906, -0.14222318, -0.32914382,  0.11487077,\n",
       "          0.21897395,  0.1428981 ,  0.41085437, -0.02966296, -0.11487778,\n",
       "          0.2835232 ,  0.2571578 , -0.12365901,  0.14695017, -0.39992067,\n",
       "         -0.11544652, -0.11918075, -0.5031594 , -0.16646984, -0.0463655 ],\n",
       "        [-0.11886355,  0.19529893, -0.1320524 , -0.46206364,  0.07806107,\n",
       "         -0.36992034, -0.06379854,  0.37158272,  0.07555988,  0.5198789 ,\n",
       "         -0.01714149,  0.35476214,  0.09361269,  0.17954443,  0.00514449,\n",
       "          0.04280839,  0.10517986,  0.03766977, -0.23309667, -0.23678231,\n",
       "         -0.07444265, -0.30713868, -0.11694647,  0.3292593 , -0.09511968],\n",
       "        [ 0.15940411,  0.0393942 ,  0.47869274,  0.2265753 ,  0.03725043,\n",
       "         -0.51921755, -0.0173153 , -0.3157803 , -0.2167203 ,  0.0412293 ,\n",
       "          0.04947526, -0.29094276, -0.03152777,  0.47902155,  0.3167656 ,\n",
       "          0.04739   ,  0.07770435,  0.31394583, -0.02500664,  0.10048122,\n",
       "         -0.05332499, -0.34107792, -0.13928485,  0.12402104, -0.41300818],\n",
       "        [-0.14994687,  0.03965309, -0.47870174, -0.07975383,  0.09755065,\n",
       "         -0.00232861, -0.26367775, -0.23967458,  0.24946521,  0.22969176,\n",
       "         -0.30773667,  0.1017215 ,  0.0305302 ,  0.26468748, -0.51858556,\n",
       "         -0.08669734,  0.03128887,  0.28504825,  0.20724739, -0.14461054,\n",
       "         -0.09631125,  0.2553377 ,  0.0313108 ,  0.2868451 ,  0.02228327],\n",
       "        [-0.20329641, -0.2922766 , -0.03024991,  0.00603078,  0.34428513,\n",
       "          0.14932795, -0.42723438,  0.07875892,  0.06157893, -0.19437575,\n",
       "          0.03054013, -0.20949648,  0.2890019 ,  0.03168807,  0.18291236,\n",
       "         -0.17629069, -0.2162296 ,  0.02522451, -0.17976451,  0.20999093,\n",
       "          0.13074148,  0.12900151, -0.29620144,  0.39828372,  0.35581756],\n",
       "        [-0.08132942,  0.0508789 ,  0.03970909, -0.06884057, -0.07758211,\n",
       "          0.21220328,  0.16169944, -0.05766107, -0.04837854, -0.23052695,\n",
       "          0.2551639 , -0.2933403 , -0.16104451, -0.11232601, -0.1305835 ,\n",
       "          0.0502181 ,  0.18621859, -0.07786819,  0.10281896, -0.06372993,\n",
       "          0.41251048, -0.01803587,  0.04746069,  0.27628538, -0.21901166],\n",
       "        [ 0.28539085,  0.20629272, -0.3837217 ,  0.26297212,  0.23504943,\n",
       "          0.18105377,  0.25501856, -0.19114947,  0.35580727,  0.00106983,\n",
       "         -0.33252382, -0.09722907, -0.00984808,  0.22310142, -0.22939903,\n",
       "         -0.02731943,  0.1857264 , -0.00867903,  0.47467554,  0.00131025,\n",
       "          0.3148377 , -0.22662118,  0.12927507,  0.0426539 , -0.45121887],\n",
       "        [-0.23054187, -0.22334962, -0.18913192,  0.15417175, -0.07368277,\n",
       "         -0.0554374 ,  0.12214173,  0.3880139 , -0.01242276,  0.11768965,\n",
       "          0.26777858, -0.06251994, -0.12100054, -0.12495217, -0.03189994,\n",
       "         -0.50085783, -0.09560107, -0.2402923 ,  0.07087833,  0.03642716,\n",
       "         -0.00494978, -0.36984688,  0.00878784,  0.24595837, -0.1323934 ],\n",
       "        [ 0.31912857,  0.02266271, -0.06669842, -0.33996752,  0.36436084,\n",
       "         -0.29865557, -0.05117008, -0.37243617,  0.27359548,  0.20692156,\n",
       "          0.02171064,  0.10230298, -0.39800125,  0.02363082,  0.13089404,\n",
       "          0.33540627,  0.08214819,  0.20031588, -0.08127794, -0.28784147,\n",
       "          0.17327178, -0.1326688 ,  0.28894275, -0.1986986 , -0.03405774],\n",
       "        [ 0.1882051 , -0.20398362, -0.03503598, -0.36792815, -0.22963934,\n",
       "          0.23911734, -0.04237935, -0.01655166, -0.05906219,  0.16423771,\n",
       "         -0.32017097,  0.15379827,  0.14842783, -0.24647985, -0.08833598,\n",
       "          0.13306317,  0.41101137,  0.36263096,  0.33551395,  0.05405051,\n",
       "          0.21186371,  0.0197499 ,  0.45979315,  0.04402933,  0.36662805]],\n",
       "       dtype=float32)>,\n",
       " 'b2': <tf.Variable 'Variable:0' shape=(12, 1) dtype=float32, numpy=\n",
       " array([[ 0.05586328],\n",
       "        [-0.22080162],\n",
       "        [ 0.28016457],\n",
       "        [-0.35078046],\n",
       "        [-0.407107  ],\n",
       "        [-0.17678554],\n",
       "        [-0.01738933],\n",
       "        [ 0.20840582],\n",
       "        [-0.00978931],\n",
       "        [-0.6255955 ],\n",
       "        [ 0.76646936],\n",
       "        [-0.61273056]], dtype=float32)>,\n",
       " 'W3': <tf.Variable 'Variable:0' shape=(6, 12) dtype=float32, numpy=\n",
       " array([[ 0.04761663, -0.18691434,  0.23871906, -0.29910973, -0.34814334,\n",
       "         -0.14891644, -0.01468904,  0.17718893, -0.00528845, -0.53165394,\n",
       "          0.6512269 , -0.5256208 ],\n",
       "        [ 0.14137168,  0.2585655 , -0.08242739, -0.24897751, -0.08694404,\n",
       "         -0.23124084, -0.00362752, -0.08165746,  0.10867117,  0.02485008,\n",
       "         -0.10594471,  0.4071276 ],\n",
       "        [ 0.2588232 ,  0.3953151 ,  0.09260609,  0.19811353, -0.02675309,\n",
       "         -0.51413274, -0.06277467,  0.0073774 ,  0.20107777, -0.3234572 ,\n",
       "         -0.17168547, -0.21085018],\n",
       "        [-0.39999744, -0.32459357, -0.22211896, -0.44647512,  0.60610944,\n",
       "          0.06233899,  0.20539553,  0.5849541 ,  0.27438086, -0.11884821,\n",
       "          0.27649114, -0.28224474],\n",
       "        [ 0.15867612, -0.14753199,  0.10718004,  0.20221263, -0.53973365,\n",
       "         -0.19613925, -0.24190293, -0.17912963,  0.11743037, -0.20150405,\n",
       "         -0.4571613 ,  0.17953788],\n",
       "        [ 0.313728  ,  0.20475893,  0.59101164, -0.07041423, -0.172195  ,\n",
       "          0.3968525 ,  0.37256533, -0.17371103,  0.20850433, -0.5733746 ,\n",
       "         -0.18640967, -0.19104946]], dtype=float32)>,\n",
       " 'b3': <tf.Variable 'Variable:0' shape=(6, 1) dtype=float32, numpy=\n",
       " array([[ 0.07464749],\n",
       "        [-0.31648093],\n",
       "        [ 0.357774  ],\n",
       "        [-0.4854467 ],\n",
       "        [-0.5509955 ],\n",
       "        [-0.24964494]], dtype=float32)>}"
      ]
     },
     "execution_count": 32,
     "metadata": {},
     "output_type": "execute_result"
    }
   ],
   "source": [
    "model(new_train, new_y_train, new_test, new_y_test, num_epochs=200)"
   ]
  },
  {
   "attachments": {},
   "cell_type": "markdown",
   "metadata": {},
   "source": [
    "**Expected output**\n",
    "\n",
    "```\n",
    "Cost after epoch 0: 0.742591\n",
    "Cost after epoch 10: 0.614557\n",
    "Cost after epoch 20: 0.598900\n",
    "Cost after epoch 30: 0.588907\n",
    "Cost after epoch 40: 0.579898\n",
    "...\n",
    "```"
   ]
  },
  {
   "attachments": {},
   "cell_type": "markdown",
   "metadata": {},
   "source": [
    "**Congratulations**! You've made it to the end of this assignment, and to the end of this week's material. Amazing work building a neural network in TensorFlow 2.3! \n",
    "\n",
    "Here's a quick recap of all you just achieved:\n",
    "\n",
    "- Used `tf.Variable` to modify your variables\n",
    "- Applied TensorFlow decorators and observed how they sped up your code\n",
    "- Trained a Neural Network on a TensorFlow dataset\n",
    "\n",
    "You are now able to harness the power of TensorFlow's computational graph to create cool things, faster. Nice!"
   ]
  }
 ],
 "metadata": {
  "kernelspec": {
   "display_name": "Python 3 (ipykernel)",
   "language": "python",
   "name": "python3"
  },
  "language_info": {
   "name": "python",
   "version": "3.8.16"
  }
 },
 "nbformat": 4,
 "nbformat_minor": 4
}
