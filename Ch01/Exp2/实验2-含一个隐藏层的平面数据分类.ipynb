{
 "cells": [
  {
   "cell_type": "markdown",
   "metadata": {},
   "source": [
    "# 实验2 含一个隐藏层的平面数据分类\n",
    "\n",
    "- **概述**：本次课程将训练包含1个隐藏层(由4个神经元组成)的神经网络（NN）模型,用于分类\n",
    "    - 首先将读入数据，包括: 由二维点坐标组成的花的图案的X；对应的颜色标记Y\n",
    "    - 然后使用sklearn中预设的linear_model.LogisticRegressionCV()进行分类，将效果作为基准\n",
    "    - 最后使用自己设计的NN进行分类,达到良好的效果\n",
    "\n",
    "- 本实验的**目标**包括：\n",
    "    - 实现一个二分类神经网络，其具有一个隐藏层\n",
    "    - 使用非线性激活函数，例如 tanh\n",
    "    - 计算交叉熵损失\n",
    "    - 实现前向和反向传播\n"
   ]
  },
  {
   "cell_type": "markdown",
   "metadata": {},
   "source": [
    "## 1 - 包\n",
    "\n",
    "- [numpy](https://www.numpy.org/) \n",
    "- [sklearn](http://scikit-learn.org/stable/)：Scikit-learn，是机器学习中常用的第三方模块，对常用的机器学习方法进行了封装，包括回归(Regression)、降维(Dimensionality Reduction)、分类(Classfication)、聚类(Clustering)等方法。\n",
    "- [matplotlib](http://matplotlib.org) "
   ]
  },
  {
   "cell_type": "code",
   "execution_count": null,
   "metadata": {
    "scrolled": true
   },
   "outputs": [],
   "source": [
    "# Package imports\n",
    "import numpy as np\n",
    "import matplotlib.pyplot as plt\n",
    "import sklearn  \n",
    "import sklearn.datasets\n",
    "import sklearn.linear_model\n",
    "from lib_testCases_v2 import *\n",
    "from lib_public_tests import *\n",
    "from lib_planar_utils import plot_decision_boundary, sigmoid, load_planar_dataset, load_extra_datasets\n",
    "\n",
    "%matplotlib inline\n",
    "\n",
    "np.random.seed(2) # set a seed so that the results are consistent\n",
    "\n",
    "%load_ext autoreload\n",
    "%autoreload 2"
   ]
  },
  {
   "cell_type": "markdown",
   "metadata": {},
   "source": [
    "## 2 - 数据集\n",
    "\n",
    "### 2.1 加载数据集\n",
    "让我们获取要使用的数据集。下面将调用本地模块中的函数 `load_planar_dataset()` 以加载一个名为\"flower\"的数据，其是具有2个类别的数据集，并赋值给`X`和`Y`"
   ]
  },
  {
   "cell_type": "code",
   "execution_count": null,
   "metadata": {
    "scrolled": true
   },
   "outputs": [],
   "source": [
    "X, Y = load_planar_dataset()"
   ]
  },
  {
   "cell_type": "markdown",
   "metadata": {},
   "source": [
    "#### 练习 1 - 数据集信息\n",
    "\n",
    "- **目标**：\n",
    "    - 确认训练样本的个数\n",
    "    - X和Y的形状"
   ]
  },
  {
   "cell_type": "code",
   "execution_count": null,
   "metadata": {},
   "outputs": [],
   "source": [
    "# (≈ 3 lines of code)\n",
    "# shape_X = ...\n",
    "# shape_Y = ...\n",
    "# training set size\n",
    "# m = ...\n",
    "# YOUR CODE STARTS HERE\n",
    "\n",
    "# YOUR CODE ENDS HERE\n",
    "\n",
    "print ('The shape of X is: ' + str(shape_X))\n",
    "print ('The shape of Y is: ' + str(shape_Y))\n",
    "print ('I have m = %d training examples!' % (m))"
   ]
  },
  {
   "cell_type": "markdown",
   "metadata": {},
   "source": [
    "**Expected Output**:\n",
    "       \n",
    "<table style=\"width:20%\">\n",
    "  <tr>\n",
    "    <td> shape of X </td>\n",
    "    <td> (2, 400) </td> \n",
    "  </tr>\n",
    "  <tr>\n",
    "    <td>shape of Y</td>\n",
    "    <td>(1, 400) </td> \n",
    "    </tr>\n",
    "    <tr>\n",
    "    <td>m</td>\n",
    "    <td> 400 </td> \n",
    "  </tr>\n",
    "</table>"
   ]
  },
  {
   "cell_type": "markdown",
   "metadata": {},
   "source": [
    "### 2.2 可视化数据集\n",
    "- 使用matplotlib库中绘制散列点的函数scatter()来可视化数据集。\n",
    "\n",
    "#### 2.2.1 scatter()简介\n",
    "`matplotlib.pyplot.scatter()`[参考文档](https://matplotlib.org/stable/api/_as_gen/matplotlib.pyplot.scatter.html)\n",
    "\n",
    "在观察变量之间的关系时经常用到**散点图**。图中的点表示数据的关系。我们使用matplotlib库中的scatter()函数来画散点图。散点图同样被用于展示一个变量的改变会如何影响其他变量。\n",
    "\n",
    "#### 2.2.2 scatter的语法\n",
    "`matplotlib.pyplot.scatter(xaxis_data, yaxis_data, s = None, c = None, marker = None, cmap = None, vmin = None, vmax = None, alpha = None, linewidths = None, edgecolors = None)`[参考文档](https://matplotlib.org/stable/api/_as_gen/matplotlib.pyplot.scatter.html)\n",
    "\n",
    "* 参数描述（除X和Y之外，所有参数都是可选的，默认值为空）：\n",
    "    * xaxis_data：X轴数据  \n",
    "    * yaxis_data：Y轴数据  \n",
    "    * s：点的尺寸  \n",
    "    * c：点的颜色  \n",
    "    * marker：点的式样  \n",
    "    * cmap：颜色映射方式  \n",
    "    * linewidths：点边缘的宽度  \n",
    "    * edgecolor：点边缘的颜色  \n",
    "    * Alpha：透明度，取值0到1之间，0表示完全透明，1表示不透明"
   ]
  },
  {
   "cell_type": "code",
   "execution_count": null,
   "metadata": {
    "scrolled": true
   },
   "outputs": [],
   "source": [
    "# Visualize the data:\n",
    "plt.scatter(X[0, :], X[1, :], c=np.squeeze(Y), s=40, cmap=plt.cm.Spectral);"
   ]
  },
  {
   "cell_type": "markdown",
   "metadata": {},
   "source": [
    "该数据看起来想一朵花，其中包含一些标记为红色（标记y=0）的点和一些标记为蓝色（y=1）的点。你的目标是构建一个模型来匹配该数据。即将矩形区域划分为红色区域和蓝色区域。"
   ]
  },
  {
   "cell_type": "markdown",
   "metadata": {},
   "source": [
    "## 3 - 简单的逻辑回归\n",
    "在构建完整的神经网络之前，让我们看看逻辑回归模型在本问题上的性能如何。下面将使用`sklearn`库的内置函数来训练一个逻辑回归分类器，并可视化预测结果。"
   ]
  },
  {
   "cell_type": "code",
   "execution_count": null,
   "metadata": {},
   "outputs": [],
   "source": [
    "# Train the logistic regression classifier\n",
    "clf = sklearn.linear_model.LogisticRegressionCV();\n",
    "clf.fit(X.T, Y.T.ravel());\n",
    "\n",
    "# Plot the decision boundary for logistic regression\n",
    "plot_decision_boundary(lambda x: clf.predict(x), X, np.squeeze(Y))\n",
    "plt.title(\"Logistic Regression\")\n",
    "\n",
    "# Print accuracy\n",
    "LR_predictions = clf.predict(X.T)\n",
    "acc = (np.dot(Y,LR_predictions) + np.dot(1-Y,1-LR_predictions))/Y.size*100.\n",
    "print ('Accuracy of logistic regression: {}%（正确分类的点数百分比）'.format(np.squeeze(acc)))"
   ]
  },
  {
   "cell_type": "markdown",
   "metadata": {},
   "source": [
    "**Expected Output**:\n",
    "\n",
    "<table style=\"width:20%\">\n",
    "  <tr>\n",
    "    <td>Accuracy</td>\n",
    "    <td> 47% </td> \n",
    "  </tr>\n",
    "  \n",
    "</table>\n"
   ]
  },
  {
   "cell_type": "markdown",
   "metadata": {},
   "source": [
    "**解释**：该数据库并非线性分离的，因此逻辑回归的性能不好，下面将尝试采用神经网络模型来分类。"
   ]
  },
  {
   "cell_type": "markdown",
   "metadata": {},
   "source": [
    "## 4 - NN模型\n",
    "\n",
    "### 4.0 模型结构及理论\n",
    "<img src=\"images/classification_kiank.png\" style=\"width:600px;height:300px;\">\n",
    "\n",
    "- 对于样本 $x^{(i)}$:\n",
    "$$z^{[1] (i)} =  W^{[1]} x^{(i)} + b^{[1]}\\tag{1}$$ \n",
    "$$a^{[1] (i)} = \\tanh(z^{[1] (i)})\\tag{2}$$\n",
    "$$z^{[2] (i)} = W^{[2]} a^{[1] (i)} + b^{[2]}\\tag{3}$$\n",
    "$$\\hat{y}^{(i)} = a^{[2] (i)} = \\sigma(z^{ [2] (i)})\\tag{4}$$\n",
    "$$y^{(i)}_{prediction} = \\begin{cases} 1 & \\mbox{if } a^{[2](i)} > 0.5 \\\\ 0 & \\mbox{otherwise } \\end{cases}\\tag{5}$$\n",
    "\n",
    "- 对于整个训练集, 代价函数 $J$ 定义如下: \n",
    "$$J = - \\frac{1}{m} \\sum\\limits_{i = 0}^{m} \\large\\left(\\small y^{(i)}\\log\\left(a^{[2] (i)}\\right) + (1-y^{(i)})\\log\\left(1- a^{[2] (i)}\\right)  \\large  \\right) \\small \\tag{6}$$"
   ]
  },
  {
   "cell_type": "markdown",
   "metadata": {},
   "source": [
    "### 4.1 - 定义NN结构\n",
    "\n",
    "#### 练习 2 - layer_sizes \n",
    "\n",
    "- 定义三个变量\n",
    "    - n_x: 输入层的尺寸\n",
    "    - n_h: 隐藏层的尺寸 (设置为 4) \n",
    "    - n_y: 输出层的尺寸"
   ]
  },
  {
   "cell_type": "code",
   "execution_count": null,
   "metadata": {
    "deletable": false,
    "nbgrader": {
     "cell_type": "code",
     "checksum": "40a4061cd6df43988d25ebea254e3a3b",
     "grade": false,
     "grade_id": "cell-bf6ef9d827b48201",
     "locked": false,
     "schema_version": 3,
     "solution": true,
     "task": false
    }
   },
   "outputs": [],
   "source": [
    "\"\"\"\n",
    "    # Arguments:\n",
    "    X -- input dataset of shape (input size, number of examples)\n",
    "    Y -- labels of shape (output size, number of examples)\n",
    "    # Returns:\n",
    "    n_x -- the size of the input layer\n",
    "    n_h -- the size of the hidden layer\n",
    "    n_y -- the size of the output layer\n",
    "\"\"\"\n",
    "def layer_sizes(X, Y):    \n",
    "    #(≈ 3 lines of code)\n",
    "    # n_x = ... \n",
    "    # n_h = ...\n",
    "    # n_y = ... \n",
    "    # YOUR CODE STARTS HERE\n",
    "\n",
    "    # YOUR CODE ENDS HERE\n",
    "    return (n_x, n_h, n_y)"
   ]
  },
  {
   "cell_type": "code",
   "execution_count": null,
   "metadata": {
    "deletable": false,
    "editable": false,
    "nbgrader": {
     "cell_type": "code",
     "checksum": "314281d8cdb343ad6fc836d2f68ddc84",
     "grade": true,
     "grade_id": "cell-c98fce5b0806c953",
     "locked": true,
     "points": 10,
     "schema_version": 3,
     "solution": false,
     "task": false
    }
   },
   "outputs": [],
   "source": [
    "t_X, t_Y = layer_sizes_test_case()\n",
    "(n_x, n_h, n_y) = layer_sizes(t_X, t_Y)\n",
    "print(\"The size of the input layer is: n_x = \" + str(n_x))\n",
    "print(\"The size of the hidden layer is: n_h = \" + str(n_h))\n",
    "print(\"The size of the output layer is: n_y = \" + str(n_y))\n",
    "\n",
    "layer_sizes_test(layer_sizes)"
   ]
  },
  {
   "cell_type": "markdown",
   "metadata": {},
   "source": [
    "***Expected output***\n",
    "```\n",
    "The size of the input layer is: n_x = 5\n",
    "The size of the hidden layer is: n_h = 4\n",
    "The size of the output layer is: n_y = 2\n",
    "```"
   ]
  },
  {
   "cell_type": "markdown",
   "metadata": {},
   "source": [
    "### 4.2 - 初始化模型参数\n",
    "\n",
    "<a name='ex-3'></a>\n",
    "#### 练习 3 -  initialize_parameters\n",
    "\n",
    "- **目标**：实现函数 `initialize_parameters()`.\n",
    "    - 确保参数尺寸正确\n",
    "    - 使用随机数初始化权重矩阵\n",
    "    - 初始化偏置为全零向量\n",
    "- 提示：\n",
    "    - 使用 `np.random.randn(a,b) * 0.01` 随机初始化尺寸为 (a,b) 的矩阵\n",
    "    - 使用 `np.zeros((a,b))` 来初始化尺寸为 (a,b) 的全零矩阵"
   ]
  },
  {
   "cell_type": "code",
   "execution_count": null,
   "metadata": {
    "deletable": false,
    "nbgrader": {
     "cell_type": "code",
     "checksum": "dfdc0a49fe7a9b783e4d135698146ca6",
     "grade": false,
     "grade_id": "cell-e701a137e4b826ea",
     "locked": false,
     "schema_version": 3,
     "solution": true,
     "task": false
    }
   },
   "outputs": [],
   "source": [
    "\"\"\"\n",
    "    # Argument:\n",
    "    n_x -- size of the input layer\n",
    "    n_h -- size of the hidden layer\n",
    "    n_y -- size of the output layer\n",
    "    # Returns:\n",
    "    params -- python dictionary containing your parameters:\n",
    "        W1 -- weight matrix of shape (n_h, n_x)\n",
    "        b1 -- bias vector of shape (n_h, 1)\n",
    "        W2 -- weight matrix of shape (n_y, n_h)\n",
    "        b2 -- bias vector of shape (n_y, 1)\n",
    "\"\"\"\n",
    "def initialize_parameters(n_x, n_h, n_y):    \n",
    "    np.random.seed(2) # we set up a seed so that your output matches ours although the initialization is random.    \n",
    "    #(≈ 4 lines of code)\n",
    "    # W1 = ...\n",
    "    # b1 = ...\n",
    "    # W2 = ...\n",
    "    # b2 = ...\n",
    "    # YOUR CODE STARTS HERE\n",
    "\n",
    "    # YOUR CODE ENDS HERE\n",
    "\n",
    "    parameters = {\"W1\": W1,\n",
    "                  \"b1\": b1,\n",
    "                  \"W2\": W2,\n",
    "                  \"b2\": b2}\n",
    "    \n",
    "    return parameters"
   ]
  },
  {
   "cell_type": "code",
   "execution_count": null,
   "metadata": {
    "deletable": false,
    "editable": false,
    "nbgrader": {
     "cell_type": "code",
     "checksum": "735a09e6d3eadff5a0ae51afa2ce3747",
     "grade": true,
     "grade_id": "cell-7aa275067ab508e9",
     "locked": true,
     "points": 10,
     "schema_version": 3,
     "solution": false,
     "task": false
    }
   },
   "outputs": [],
   "source": [
    "n_x, n_h, n_y = initialize_parameters_test_case()\n",
    "parameters = initialize_parameters(n_x, n_h, n_y)\n",
    "\n",
    "print(\"W1 = \" + str(parameters[\"W1\"]))\n",
    "print(\"b1 = \" + str(parameters[\"b1\"]))\n",
    "print(\"W2 = \" + str(parameters[\"W2\"]))\n",
    "print(\"b2 = \" + str(parameters[\"b2\"]))\n",
    "\n",
    "initialize_parameters_test(initialize_parameters)"
   ]
  },
  {
   "cell_type": "markdown",
   "metadata": {},
   "source": [
    "**Expected output**\n",
    "```\n",
    "W1 = [[-0.00416758 -0.00056267]\n",
    " [-0.02136196  0.01640271]\n",
    " [-0.01793436 -0.00841747]\n",
    " [ 0.00502881 -0.01245288]]\n",
    "b1 = [[0.]\n",
    " [0.]\n",
    " [0.]\n",
    " [0.]]\n",
    "W2 = [[-0.01057952 -0.00909008  0.00551454  0.02292208]]\n",
    "b2 = [[0.]]\n",
    "```"
   ]
  },
  {
   "cell_type": "markdown",
   "metadata": {},
   "source": [
    "<a name='4-3'></a>\n",
    "### 4.3 - 前向传播\n",
    "\n",
    "<a name='ex-4'></a>\n",
    "#### 练习4 - forward_propagation\n",
    "\n",
    "使用下面的公式实现函数 `forward_propagation()`\n",
    "\n",
    "$$Z^{[1]} =  W^{[1]} X + b^{[1]}\\tag{1}$$ \n",
    "$$A^{[1]} = \\tanh(Z^{[1]})\\tag{2}$$\n",
    "$$Z^{[2]} = W^{[2]} A^{[1]} + b^{[2]}\\tag{3}$$\n",
    "$$\\hat{Y} = A^{[2]} = \\sigma(Z^{[2]})\\tag{4}$$\n",
    "\n",
    "\n",
    "**提示**:\n",
    "\n",
    "- 确认上图中分类器的数学表达\n",
    "- Sigmoid激活函数可调用本地模块中定义的 `sigmoid()`\n",
    "- Tanh激活函数可调用 `np.tanh()`\n",
    "- 具体步骤包括:\n",
    "    1. 从\"parameters\" 中检索得到各个参数 (它是`initialize_parameters()`的返回值, 可以调用`parameters[\"..\"]`来实现).\n",
    "    2. 实现前向传播. 计算 $Z^{[1]}, A^{[1]}, Z^{[2]}$ and $A^{[2]}$.\n",
    "- 将结果保存至 \"cache\" 中, 以供反向传播使用"
   ]
  },
  {
   "cell_type": "code",
   "execution_count": null,
   "metadata": {
    "deletable": false,
    "nbgrader": {
     "cell_type": "code",
     "checksum": "f85c43256805578b8386a15d778dfd6a",
     "grade": false,
     "grade_id": "cell-b41d8713ffbb054c",
     "locked": false,
     "schema_version": 3,
     "solution": true,
     "task": false
    }
   },
   "outputs": [],
   "source": [
    "\"\"\"\n",
    "Argument:\n",
    "    X -- input data of size (n_x, m)\n",
    "    parameters -- python dictionary containing your parameters (output of initialization function)\n",
    "Returns:\n",
    "    A2 -- The sigmoid output of the second activation\n",
    "    cache -- a dictionary containing \"Z1\", \"A1\", \"Z2\" and \"A2\"\n",
    "\"\"\"\n",
    "def forward_propagation(X, parameters):\n",
    "    # Retrieve each parameter from the dictionary \"parameters\"\n",
    "    #(≈ 4 lines of code)\n",
    "    # W1 = ...\n",
    "    # b1 = ...\n",
    "    # W2 = ...\n",
    "    # b2 = ...\n",
    "    # YOUR CODE STARTS HERE\n",
    "\n",
    "    # YOUR CODE ENDS HERE\n",
    "    \n",
    "    # Implement Forward Propagation to calculate A2 (probabilities)\n",
    "    # (≈ 4 lines of code)\n",
    "    # Z1 = ...\n",
    "    # A1 = ...\n",
    "    # Z2 = ...\n",
    "    # A2 = ...\n",
    "    # YOUR CODE STARTS HERE\n",
    "\n",
    "    # YOUR CODE ENDS HERE\n",
    "    \n",
    "    assert(A2.shape == (1, X.shape[1]))\n",
    "    \n",
    "    cache = {\"Z1\": Z1,\n",
    "             \"A1\": A1,\n",
    "             \"Z2\": Z2,\n",
    "             \"A2\": A2}\n",
    "    \n",
    "    return A2, cache"
   ]
  },
  {
   "cell_type": "code",
   "execution_count": null,
   "metadata": {
    "deletable": false,
    "editable": false,
    "nbgrader": {
     "cell_type": "code",
     "checksum": "8742f1f4bedcdb56dcc2a15bb794ff79",
     "grade": true,
     "grade_id": "cell-8c8104df1945b472",
     "locked": true,
     "points": 10,
     "schema_version": 3,
     "solution": false,
     "task": false
    }
   },
   "outputs": [],
   "source": [
    "t_X, parameters = forward_propagation_test_case()\n",
    "A2, cache = forward_propagation(t_X, parameters)\n",
    "print(\"A2 = \" + str(A2))\n",
    "\n",
    "forward_propagation_test(forward_propagation)"
   ]
  },
  {
   "cell_type": "markdown",
   "metadata": {},
   "source": [
    "***Expected output***\n",
    "```\n",
    "A2 = [[0.21292656 0.21274673 0.21295976]]\n",
    "```"
   ]
  },
  {
   "cell_type": "markdown",
   "metadata": {},
   "source": [
    "<a name='4-4'></a>\n",
    "### 4.4 - 计算代价\n",
    "\n",
    "上面已经计算得到了 $A^{[2]}$ (即 \"`A2`\"), 其包含对于所有样本的 $a^{[2](i)}$, 接下来可以根据下列公式计算代价函数:\n",
    "\n",
    "$$J = - \\frac{1}{m} \\sum\\limits_{i = 1}^{m} \\large{(} \\small y^{(i)}\\log\\left(a^{[2] (i)}\\right) + (1-y^{(i)})\\log\\left(1- a^{[2] (i)}\\right) \\large{)} \\small\\tag{5}$$\n",
    "\n",
    "<a name='ex-5'></a>\n",
    "#### 练习 5 - compute_cost\n",
    "\n",
    "实现函数 `compute_cost()` 用于计算代价值 $J$.\n",
    "\n",
    "**提示**:\n",
    "$$- \\sum\\limits_{i=1}^{m}  y^{(i)}\\log(a^{[2](i)})\\tag{6}$$:\n",
    "- 有很多方法可以实现交叉熵. 例如, 下面的代码可以不使用循环来实现公式(6)的计算, 其是交叉熵的一部分:\n",
    "```python\n",
    "logprobs = np.multiply(np.log(A2),Y)\n",
    "cost = - np.sum(logprobs)          \n",
    "```\n",
    "**注意**:\n",
    "- 上述 `np.multiply()` 和 `np.sum()` 的方式可以简化为直接使用 `np.dot()`.\n",
    "- `np.multiply`+`np.sum`的方式得到的数据类型为`float`, 而 `np.dot` 所得结果为一个二维的numpy数组.\n",
    "- 可以使用 `np.squeeze()` 来去除多余的维度.\n",
    "- 也可以使用`float()`来进行类型转换."
   ]
  },
  {
   "cell_type": "code",
   "execution_count": null,
   "metadata": {
    "deletable": false,
    "nbgrader": {
     "cell_type": "code",
     "checksum": "40359ee771bdf2b1c9306b2d03fc975f",
     "grade": false,
     "grade_id": "cell-3dba3a966f90c35a",
     "locked": false,
     "schema_version": 3,
     "solution": true,
     "task": false
    }
   },
   "outputs": [],
   "source": [
    "\"\"\"\n",
    "Functions:\n",
    "    Computes the cross-entropy cost given in equation (5)\n",
    "Arguments:\n",
    "    A2 -- The sigmoid output of the second activation, of shape (1, number of examples)\n",
    "    Y -- \"true\" labels vector of shape (1, number of examples)\n",
    "Returns:\n",
    "    cost -- cross-entropy cost given equation (13)\n",
    "\"\"\"\n",
    "def compute_cost(A2, Y):\n",
    "    m = Y.shape[1] # number of examples\n",
    "    # Compute the cross-entropy cost\n",
    "    # (≈ 2 lines of code)\n",
    "    # logprobs = ...\n",
    "    # cost = ...\n",
    "    # YOUR CODE STARTS HERE\n",
    "\n",
    "    # YOUR CODE ENDS HERE\n",
    "    \n",
    "    cost = float(np.squeeze(cost))  # makes sure cost is the dimension we expect. \n",
    "                                    # E.g., turns [[17]] into 17 \n",
    "    \n",
    "    return cost"
   ]
  },
  {
   "cell_type": "code",
   "execution_count": null,
   "metadata": {
    "deletable": false,
    "editable": false,
    "nbgrader": {
     "cell_type": "code",
     "checksum": "237213dfd4d9da35e08c7477d5fddd12",
     "grade": true,
     "grade_id": "cell-be9a6c2220f20d3a",
     "locked": true,
     "points": 10,
     "schema_version": 3,
     "solution": false,
     "task": false
    }
   },
   "outputs": [],
   "source": [
    "A2, t_Y = compute_cost_test_case()\n",
    "cost = compute_cost(A2, t_Y)\n",
    "print(\"cost = \" + str(compute_cost(A2, t_Y)))\n",
    "\n",
    "compute_cost_test(compute_cost)"
   ]
  },
  {
   "cell_type": "markdown",
   "metadata": {},
   "source": [
    "***Expected output***\n",
    "\n",
    "`cost = 0.6930587610394646`\n"
   ]
  },
  {
   "cell_type": "markdown",
   "metadata": {},
   "source": [
    "<a name='4-5'></a>\n",
    "### 4.5 - 反向传播\n",
    "\n",
    "<a name='ex-6'></a>\n",
    "#### 练习 6 -  backward_propagation\n",
    "\n",
    "实现函数 `backward_propagation()`.\n",
    "\n",
    "**提示**:\n",
    "反向传播通常来说是深度学习中最难的部分(因为有很多数学原理和公式). 下面的图片来自PPT. 你可以使用右侧的六个等式来实现向量化版本的实现.\n",
    "\n",
    "<img src=\"images/grad_summary.png\" width=1000>\n",
    "<caption><center><font color='purple'><b>Figure 1</b>: Backpropagation. Use the six equations on the right.</font></center></caption>\n",
    "- Tips:\n",
    "    - 为了计算 dZ1 你需要计算 $g^{[1]'}(Z^{[1]})$. 因为 $g^{[1]}(.)$ 是 tanh 激活函数, 如果 $a = g^{[1]}(z)$, 则 $g^{[1]'}(z) = 1-a^2$. 因此实现公式$g^{[1]'}(Z^{[1]})$的代码是: `(1 - np.power(A1, 2))`."
   ]
  },
  {
   "cell_type": "code",
   "execution_count": null,
   "metadata": {
    "deletable": false,
    "nbgrader": {
     "cell_type": "code",
     "checksum": "b3e942b09120df109c1602281e11576b",
     "grade": false,
     "grade_id": "cell-0f8a26305f1ccef7",
     "locked": false,
     "schema_version": 3,
     "solution": true,
     "task": false
    }
   },
   "outputs": [],
   "source": [
    "\"\"\"\n",
    "Function:\n",
    "    Implement the backward propagation using the instructions above.\n",
    "Arguments:\n",
    "    parameters -- python dictionary containing our parameters\n",
    "    cache -- a dictionary containing \"Z1\", \"A1\", \"Z2\" and \"A2\".\n",
    "    X -- input data of shape (2, number of examples)\n",
    "    Y -- \"true\" labels vector of shape (1, number of examples)\n",
    "Returns:\n",
    "    grads -- python dictionary containing your gradients with respect to different parameters\n",
    "\"\"\"\n",
    "def backward_propagation(parameters, cache, X, Y):\n",
    "    m = X.shape[1]\n",
    "    # First, retrieve W1 and W2 from the dictionary \"parameters\".\n",
    "    #(≈ 2 lines of code)\n",
    "    # W1 = ...\n",
    "    # W2 = ...\n",
    "    # YOUR CODE STARTS HERE\n",
    "\n",
    "    # YOUR CODE ENDS HERE\n",
    "        \n",
    "    # Retrieve also A1 and A2 from dictionary \"cache\".\n",
    "    #(≈ 2 lines of code)\n",
    "    # A1 = ...\n",
    "    # A2 = ...\n",
    "    # YOUR CODE STARTS HERE\n",
    "\n",
    "    # YOUR CODE ENDS HERE\n",
    "    \n",
    "    # Backward propagation: calculate dW1, db1, dW2, db2. \n",
    "    #(≈ 6 lines of code, corresponding to 6 equations on slide above)\n",
    "    # dZ2 = ...\n",
    "    # dW2 = ...\n",
    "    # db2 = ...\n",
    "    # dZ1 = ...\n",
    "    # dW1 = ...\n",
    "    # db1 = ...\n",
    "    # YOUR CODE STARTS HERE\n",
    "\n",
    "    # YOUR CODE ENDS HERE\n",
    "    \n",
    "    grads = {\"dW1\": dW1,\n",
    "             \"db1\": db1,\n",
    "             \"dW2\": dW2,\n",
    "             \"db2\": db2}\n",
    "    \n",
    "    return grads"
   ]
  },
  {
   "cell_type": "code",
   "execution_count": null,
   "metadata": {
    "deletable": false,
    "editable": false,
    "nbgrader": {
     "cell_type": "code",
     "checksum": "d7083c449c3dd88f91128e1c5d4d80c7",
     "grade": true,
     "grade_id": "cell-cbd08e4138b79fe9",
     "locked": true,
     "points": 10,
     "schema_version": 3,
     "solution": false,
     "task": false
    }
   },
   "outputs": [],
   "source": [
    "parameters, cache, t_X, t_Y = backward_propagation_test_case()\n",
    "\n",
    "grads = backward_propagation(parameters, cache, t_X, t_Y)\n",
    "print (\"dW1 = \"+ str(grads[\"dW1\"]))\n",
    "print (\"db1 = \"+ str(grads[\"db1\"]))\n",
    "print (\"dW2 = \"+ str(grads[\"dW2\"]))\n",
    "print (\"db2 = \"+ str(grads[\"db2\"]))\n",
    "\n",
    "backward_propagation_test(backward_propagation)"
   ]
  },
  {
   "cell_type": "markdown",
   "metadata": {},
   "source": [
    "***Expected output***\n",
    "```\n",
    "dW1 = [[ 0.00301023 -0.00747267]\n",
    " [ 0.00257968 -0.00641288]\n",
    " [-0.00156892  0.003893  ]\n",
    " [-0.00652037  0.01618243]]\n",
    "db1 = [[ 0.00176201]\n",
    " [ 0.00150995]\n",
    " [-0.00091736]\n",
    " [-0.00381422]]\n",
    "dW2 = [[ 0.00078841  0.01765429 -0.00084166 -0.01022527]]\n",
    "db2 = [[-0.16655712]]\n",
    "```"
   ]
  },
  {
   "cell_type": "markdown",
   "metadata": {},
   "source": [
    "<a name='4-6'></a>\n",
    "### 4.6 - 参数更新\n",
    "\n",
    "<a name='ex-7'></a>\n",
    "#### 练习 7 - update_parameters\n",
    "\n",
    "使用梯度下降法进行参数更新. 为了更新(W1, b1, W2, b2), 需要用到 (dW1, db1, dW2, db2).\n",
    "\n",
    "**梯度更新基本法则**: $\\theta = \\theta - \\alpha \\frac{\\partial J }{ \\partial \\theta }$, 其中 $\\alpha$ 是学习率, $\\theta$ 表示某参数.\n",
    "\n",
    "<img src=\"images/sgd.gif\" style=\"width:400;height:400;\"> <img src=\"images/sgd_bad.gif\" style=\"width:400;height:400;\">\n",
    "<caption><center><font color='purple'><b>Figure 2</b>: The gradient descent algorithm with a good learning rate (converging) and a bad learning rate (diverging). Images courtesy of Adam Harley.</font></center></caption>\n",
    "\n",
    "<img src=\"images/sgd.gif\" style=\"width:400;height:400;\"> <img src=\"images/sgd_bad.gif\" style=\"width:400;height:400;\">\n",
    "<caption><center><font color='purple'><b>Figure 2</b>: The gradient descent algorithm with a good learning rate (converging) and a bad learning rate (diverging). Images courtesy of Adam Harley.</font></center></caption>\n",
    "\n",
    "\n",
    "\n",
    "\n"
   ]
  },
  {
   "cell_type": "code",
   "execution_count": null,
   "metadata": {
    "deletable": false,
    "nbgrader": {
     "cell_type": "code",
     "checksum": "1edfca68f4aa253b71df1b282b7146bf",
     "grade": false,
     "grade_id": "cell-f0a3d6f05b55f29e",
     "locked": false,
     "schema_version": 3,
     "solution": true,
     "task": false
    }
   },
   "outputs": [],
   "source": [
    "\"\"\"\n",
    "Function:\n",
    "    Updates parameters using the gradient descent update rule given above\n",
    "Arguments:\n",
    "    parameters -- python dictionary containing your parameters\n",
    "    grads -- python dictionary containing your gradients\n",
    "Returns:\n",
    "    parameters -- python dictionary containing your updated parameters\n",
    "\"\"\"\n",
    "def update_parameters(parameters, grads, learning_rate = 1.2):\n",
    "    # Retrieve each parameter from the dictionary \"parameters\"\n",
    "    #(≈ 4 lines of code)\n",
    "    # W1 = ...\n",
    "    # b1 = ...\n",
    "    # W2 = ...\n",
    "    # b2 = ...\n",
    "    # YOUR CODE STARTS HERE\n",
    "\n",
    "    # YOUR CODE ENDS HERE\n",
    "    \n",
    "    # Retrieve each gradient from the dictionary \"grads\"\n",
    "    #(≈ 4 lines of code)\n",
    "    # dW1 = ...\n",
    "    # db1 = ...\n",
    "    # dW2 = ...\n",
    "    # db2 = ...\n",
    "    # YOUR CODE STARTS HERE\n",
    "\n",
    "    # YOUR CODE ENDS HERE\n",
    "    \n",
    "    # Update rule for each parameter\n",
    "    #(≈ 4 lines of code)\n",
    "    # W1 = ...\n",
    "    # b1 = ...\n",
    "    # W2 = ...\n",
    "    # b2 = ...\n",
    "    # YOUR CODE STARTS HERE\n",
    "\n",
    "    # YOUR CODE ENDS HERE\n",
    "    \n",
    "    parameters = {\"W1\": W1,\n",
    "                  \"b1\": b1,\n",
    "                  \"W2\": W2,\n",
    "                  \"b2\": b2}\n",
    "    \n",
    "    return parameters"
   ]
  },
  {
   "cell_type": "code",
   "execution_count": null,
   "metadata": {
    "deletable": false,
    "editable": false,
    "nbgrader": {
     "cell_type": "code",
     "checksum": "0979d8e5e535620971e081abfff45839",
     "grade": true,
     "grade_id": "cell-21bc2649c66c1c26",
     "locked": true,
     "points": 10,
     "schema_version": 3,
     "solution": false,
     "task": false
    }
   },
   "outputs": [],
   "source": [
    "parameters, grads = update_parameters_test_case()\n",
    "parameters = update_parameters(parameters, grads)\n",
    "\n",
    "print(\"W1 = \" + str(parameters[\"W1\"]))\n",
    "print(\"b1 = \" + str(parameters[\"b1\"]))\n",
    "print(\"W2 = \" + str(parameters[\"W2\"]))\n",
    "print(\"b2 = \" + str(parameters[\"b2\"]))\n",
    "\n",
    "update_parameters_test(update_parameters)"
   ]
  },
  {
   "cell_type": "markdown",
   "metadata": {},
   "source": [
    "***Expected output***\n",
    "```\n",
    "W1 = [[-0.00643025  0.01936718]\n",
    " [-0.02410458  0.03978052]\n",
    " [-0.01653973 -0.02096177]\n",
    " [ 0.01046864 -0.05990141]]\n",
    "b1 = [[-1.02420756e-06]\n",
    " [ 1.27373948e-05]\n",
    " [ 8.32996807e-07]\n",
    " [-3.20136836e-06]]\n",
    "W2 = [[-0.01041081 -0.04463285  0.01758031  0.04747113]]\n",
    "b2 = [[0.00010457]]\n",
    "```"
   ]
  },
  {
   "cell_type": "markdown",
   "metadata": {},
   "source": [
    "<a name='4-7'></a>\n",
    "### 4.7 - 整合\n",
    "\n",
    "将你的函数整合至 `nn_model()`\n",
    "\n",
    "<a name='ex-8'></a>\n",
    "#### 练习 8 - nn_model\n",
    "\n",
    "在 `nn_model()` 中构建你的神经网络."
   ]
  },
  {
   "cell_type": "code",
   "execution_count": null,
   "metadata": {
    "deletable": false,
    "nbgrader": {
     "cell_type": "code",
     "checksum": "461c83f5d15193186d8b122d0a451895",
     "grade": false,
     "grade_id": "cell-25f5e3e9b4ef006f",
     "locked": false,
     "schema_version": 3,
     "solution": true,
     "task": false
    }
   },
   "outputs": [],
   "source": [
    "\"\"\"\n",
    "Arguments:\n",
    "    X -- dataset of shape (2, number of examples)\n",
    "    Y -- labels of shape (1, number of examples)\n",
    "    n_h -- size of the hidden layer\n",
    "    num_iterations -- Number of iterations in gradient descent loop\n",
    "    print_cost -- if True, print the cost every 1000 iterations\n",
    "Returns:\n",
    "    parameters -- parameters learnt by the model. They can then be used to predict.\n",
    "\"\"\"\n",
    "def nn_model(X, Y, n_h, num_iterations = 10000, print_cost=False):\n",
    "    np.random.seed(3)\n",
    "    n_x = layer_sizes(X, Y)[0]\n",
    "    n_y = layer_sizes(X, Y)[2]\n",
    "    # Initialize parameters\n",
    "    #(≈ 1 line of code)\n",
    "    # parameters = ...\n",
    "    # YOUR CODE STARTS HERE\n",
    "\n",
    "    # YOUR CODE ENDS HERE\n",
    "    \n",
    "    # Loop (gradient descent)\n",
    "    for i in range(0, num_iterations):\n",
    "        #(≈ 4 lines of code)\n",
    "        # Forward propagation. Inputs: \"X, parameters\". Outputs: \"A2, cache\".\n",
    "        # A2, cache = ...\n",
    "        # Cost function. Inputs: \"A2, Y\". Outputs: \"cost\".\n",
    "        # cost = ...\n",
    "        # Backpropagation. Inputs: \"parameters, cache, X, Y\". Outputs: \"grads\".\n",
    "        # grads = ...\n",
    "        # Gradient descent parameter update. Inputs: \"parameters, grads\". Outputs: \"parameters\".\n",
    "        # parameters = ...\n",
    "        # YOUR CODE STARTS HERE\n",
    "\n",
    "        # YOUR CODE ENDS HERE\n",
    "        \n",
    "        # Print the cost every 1000 iterations\n",
    "        if print_cost and i % 1000 == 0:\n",
    "            print (\"Cost after iteration %i: %f\" %(i, cost))\n",
    "\n",
    "    return parameters"
   ]
  },
  {
   "cell_type": "code",
   "execution_count": null,
   "metadata": {
    "deletable": false,
    "editable": false,
    "nbgrader": {
     "cell_type": "code",
     "checksum": "8c884efb7eab9a13777d3a6365017d65",
     "grade": true,
     "grade_id": "cell-3484cc5d41a6cff7",
     "locked": true,
     "points": 10,
     "schema_version": 3,
     "solution": false,
     "task": false
    }
   },
   "outputs": [],
   "source": [
    "t_X, t_Y = nn_model_test_case()\n",
    "parameters = nn_model(t_X, t_Y, 4, num_iterations=10000, print_cost=True)\n",
    "\n",
    "print(\"W1 = \" + str(parameters[\"W1\"]))\n",
    "print(\"b1 = \" + str(parameters[\"b1\"]))\n",
    "print(\"W2 = \" + str(parameters[\"W2\"]))\n",
    "print(\"b2 = \" + str(parameters[\"b2\"]))\n",
    "\n",
    "nn_model_test(nn_model)"
   ]
  },
  {
   "cell_type": "markdown",
   "metadata": {},
   "source": [
    "***Expected output***\n",
    "```\n",
    "Cost after iteration 0: 0.692739\n",
    "Cost after iteration 1000: 0.000218\n",
    "Cost after iteration 2000: 0.000107\n",
    "...\n",
    "Cost after iteration 8000: 0.000026\n",
    "Cost after iteration 9000: 0.000023\n",
    "W1 = [[-0.65848169  1.21866811]\n",
    " [-0.76204273  1.39377573]\n",
    " [ 0.5792005  -1.10397703]\n",
    " [ 0.76773391 -1.41477129]]\n",
    "b1 = [[ 0.287592  ]\n",
    " [ 0.3511264 ]\n",
    " [-0.2431246 ]\n",
    " [-0.35772805]]\n",
    "W2 = [[-2.45566237 -3.27042274  2.00784958  3.36773273]]\n",
    "b2 = [[0.20459656]]\n",
    "```"
   ]
  },
  {
   "cell_type": "markdown",
   "metadata": {},
   "source": [
    "<a name='5'></a>\n",
    "## 5 - 测试模型\n",
    "\n",
    "<a name='5-1'></a>\n",
    "### 5.1 - 预测\n",
    "\n",
    "<a name='ex-9'></a>\n",
    "#### 练习 9 - predict\n",
    "\n",
    "通过函数 `predict()` 实现预测.\n",
    "使用前向传播来预测结果.\n",
    "\n",
    "**提醒**: $y_{prediction} = \\mathbb 1 \\text{{activation > 0.5}} = \\begin{cases}\n",
    "      1 & \\text{if}\\ activation > 0.5 \\\\\n",
    "      0 & \\text{otherwise}\n",
    "    \\end{cases}$  \n",
    "    \n",
    "例如, 如果你想基于一个阈值将矩阵X的元素设置为0或1, 可以这样做: ```X_new = (X > threshold)```"
   ]
  },
  {
   "cell_type": "code",
   "execution_count": null,
   "metadata": {
    "deletable": false,
    "nbgrader": {
     "cell_type": "code",
     "checksum": "47f6c9deeb2c83107018f17aa987bfe2",
     "grade": false,
     "grade_id": "cell-54e92a8c3c22758b",
     "locked": false,
     "schema_version": 3,
     "solution": true,
     "task": false
    }
   },
   "outputs": [],
   "source": [
    "\"\"\"\n",
    "Function:\n",
    "    Using the learned parameters, predicts a class for each example in X\n",
    "Arguments:\n",
    "    parameters -- python dictionary containing your parameters\n",
    "    X -- input data of size (n_x, m)\n",
    "Returns\n",
    "    predictions -- vector of predictions of our model (red: 0 / blue: 1)\n",
    "\"\"\"\n",
    "def predict(parameters, X):\n",
    "    # Computes probabilities using forward propagation, and classifies to 0/1 using 0.5 as the threshold.\n",
    "    #(≈ 2 lines of code)\n",
    "    # A2, cache = ...\n",
    "    # predictions = ...\n",
    "    # YOUR CODE STARTS HERE\n",
    "\n",
    "    # YOUR CODE ENDS HERE\n",
    "    \n",
    "    return predictions"
   ]
  },
  {
   "cell_type": "code",
   "execution_count": null,
   "metadata": {
    "deletable": false,
    "editable": false,
    "nbgrader": {
     "cell_type": "code",
     "checksum": "930eb713dd8c9c0c38684deda0c4da0c",
     "grade": true,
     "grade_id": "cell-7d5ddc5f94da1d7a",
     "locked": true,
     "points": 10,
     "schema_version": 3,
     "solution": false,
     "task": false
    }
   },
   "outputs": [],
   "source": [
    "parameters, t_X = predict_test_case()\n",
    "\n",
    "predictions = predict(parameters, t_X)\n",
    "print(\"Predictions: \" + str(predictions))\n",
    "\n",
    "predict_test(predict)"
   ]
  },
  {
   "cell_type": "markdown",
   "metadata": {},
   "source": [
    "***Expected output***\n",
    "```\n",
    "Predictions: [[ True False  True]]\n",
    "```"
   ]
  },
  {
   "cell_type": "markdown",
   "metadata": {},
   "source": [
    "<a name='5-2'></a>\n",
    "### 5.2 - 在 Planar 测试数据中进行测试"
   ]
  },
  {
   "cell_type": "code",
   "execution_count": null,
   "metadata": {},
   "outputs": [],
   "source": [
    "# Build a model with a n_h-dimensional hidden layer\n",
    "parameters = nn_model(X, Y, n_h = 4, num_iterations = 10000, print_cost=True)\n",
    "\n",
    "# Plot the decision boundary\n",
    "plot_decision_boundary(lambda x: predict(parameters, x.T), X, Y)\n",
    "plt.title(\"Decision Boundary for hidden layer size \" + str(4))"
   ]
  },
  {
   "cell_type": "code",
   "execution_count": null,
   "metadata": {},
   "outputs": [],
   "source": [
    "# Print accuracy\n",
    "predictions = predict(parameters, X)\n",
    "print ('Accuracy: %d' % float((np.dot(Y, predictions.T) + np.dot(1 - Y, 1 - predictions.T)) / float(Y.size) * 100) + '%')"
   ]
  },
  {
   "cell_type": "markdown",
   "metadata": {},
   "source": [
    "**Expected Output**: \n",
    "\n",
    "<table style=\"width:30%\">\n",
    "  <tr>\n",
    "    <td><b>Accuracy</b></td>\n",
    "    <td> 90% </td> \n",
    "  </tr>\n",
    "</table>"
   ]
  },
  {
   "cell_type": "markdown",
   "metadata": {},
   "source": [
    "相对逻辑回归来说, 该准确率可以说相当高了. 模型已经学会了花瓣的模式.\n",
    "与逻辑回归不同, 神经网络能够学习到高度非线性的决策边界."
   ]
  },
  {
   "cell_type": "markdown",
   "metadata": {},
   "source": [
    "<a name='6'></a>\n",
    "## 6 - 调整隐藏层尺寸 (可选)\n",
    "\n",
    "运行下面的代码(约花费1~2分钟). 观察具有不同的隐藏层尺寸模型的性能."
   ]
  },
  {
   "cell_type": "code",
   "execution_count": null,
   "metadata": {},
   "outputs": [],
   "source": [
    "# This may take about 2 minutes to run\n",
    "\n",
    "plt.figure(figsize=(16, 32))\n",
    "hidden_layer_sizes = [1, 2, 3, 4, 5, 20, 50]\n",
    "for i, n_h in enumerate(hidden_layer_sizes):\n",
    "    plt.subplot(5, 2, i+1)\n",
    "    plt.title('Hidden Layer of size %d' % n_h)\n",
    "    parameters = nn_model(X, Y, n_h, num_iterations = 5000)\n",
    "    plot_decision_boundary(lambda x: predict(parameters, x.T), X, Y)\n",
    "    predictions = predict(parameters, X)\n",
    "    accuracy = float((np.dot(Y,predictions.T) + np.dot(1 - Y, 1 - predictions.T)) / float(Y.size)*100)\n",
    "    print (\"Accuracy for {} hidden units: {} %\".format(n_h, accuracy))"
   ]
  },
  {
   "cell_type": "markdown",
   "metadata": {},
   "source": [
    "**解读**:\n",
    "- 较大的模型(具有更多隐藏层单元)能够更好地拟合训练集，直到最大的模型对数据产生过拟合.\n",
    "- 最好的隐藏层大小似乎是在 n_h = 5 左右, 此时没有明显的过拟合现象出现.\n",
    "- 稍后, 你将熟悉正则化, 它允许您使用非常大的模型(例如n_h = 50)而不会过度拟合."
   ]
  },
  {
   "cell_type": "markdown",
   "metadata": {},
   "source": [
    "**其他探索问题**:\n",
    "- 如果将 tanh 激活函数改成 sigmoid 或 ReLU 会如何?\n",
    "- 更改学习率会如何?\n",
    "- 更改数据集会如何?"
   ]
  },
  {
   "cell_type": "markdown",
   "metadata": {},
   "source": [
    "**References**:\n",
    "\n",
    "- http://scs.ryerson.ca/~aharley/neural-networks/\n",
    "- http://cs231n.github.io/neural-networks-case-study/"
   ]
  }
 ],
 "metadata": {
  "kernelspec": {
   "display_name": "dl_course",
   "language": "python",
   "name": "dl_course"
  },
  "language_info": {
   "codemirror_mode": {
    "name": "ipython",
    "version": 3
   },
   "file_extension": ".py",
   "mimetype": "text/x-python",
   "name": "python",
   "nbconvert_exporter": "python",
   "pygments_lexer": "ipython3",
   "version": "3.7.16"
  },
  "toc": {
   "base_numbering": 1,
   "nav_menu": {},
   "number_sections": false,
   "sideBar": true,
   "skip_h1_title": false,
   "title_cell": "Table of Contents",
   "title_sidebar": "Contents",
   "toc_cell": false,
   "toc_position": {},
   "toc_section_display": true,
   "toc_window_display": true
  }
 },
 "nbformat": 4,
 "nbformat_minor": 2
}
