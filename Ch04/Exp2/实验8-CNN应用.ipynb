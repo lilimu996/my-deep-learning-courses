{
 "cells": [
  {
   "attachments": {},
   "cell_type": "markdown",
   "metadata": {},
   "source": [
    "# 实验8 卷积神经网络(CNN): 应用\n",
    "\n",
    "目标:\n",
    "- 使用Keras的API来构建一个二分类器\n",
    "- 使用Keras的API来构建一个多分类器, 用于手势数字识别"
   ]
  },
  {
   "attachments": {},
   "cell_type": "markdown",
   "metadata": {},
   "source": [
    "<a name='1'></a>\n",
    "## 1 - 包\n",
    "本实验需使用第三方库pandas, 如未下载安装, 可以在虚拟环境中使用下面的命令进行安装\n",
    "`pip install pandas`"
   ]
  },
  {
   "cell_type": "code",
   "execution_count": 27,
   "metadata": {},
   "outputs": [],
   "source": [
    "import math\n",
    "import numpy as np\n",
    "import h5py\n",
    "import matplotlib.pyplot as plt\n",
    "from matplotlib.pyplot import imread\n",
    "import scipy\n",
    "from PIL import Image\n",
    "import pandas as pd\n",
    "import tensorflow as tf\n",
    "import tensorflow.keras.layers as tfl\n",
    "from tensorflow.python.framework import ops\n",
    "from lib_cnn_utils import *\n",
    "from lib_test_utils import summary, comparator\n",
    "\n",
    "%matplotlib inline\n",
    "np.random.seed(1)"
   ]
  },
  {
   "attachments": {},
   "cell_type": "markdown",
   "metadata": {},
   "source": [
    "<a name='1-1'></a>\n",
    "### 1.1 - 载入数据并将其划分为训练集和测试集\n",
    "你将使用名为Happy House的数据集, 其包含人脸图片.\n",
    "你的任务是构建一个卷积网络来识别图片中的人是否在微笑 -- 微笑的人才被允许进入房间!"
   ]
  },
  {
   "cell_type": "code",
   "execution_count": 28,
   "metadata": {},
   "outputs": [
    {
     "name": "stdout",
     "output_type": "stream",
     "text": [
      "number of training examples = 600\n",
      "number of test examples = 150\n",
      "X_train shape: (600, 64, 64, 3)\n",
      "Y_train shape: (600, 1)\n",
      "X_test shape: (150, 64, 64, 3)\n",
      "Y_test shape: (150, 1)\n"
     ]
    }
   ],
   "source": [
    "X_train_orig, Y_train_orig, X_test_orig, Y_test_orig, classes = load_happy_dataset()\n",
    "\n",
    "# Normalize image vectors\n",
    "X_train = X_train_orig/255.\n",
    "X_test = X_test_orig/255.\n",
    "\n",
    "# Reshape\n",
    "Y_train = Y_train_orig.T\n",
    "Y_test = Y_test_orig.T\n",
    "\n",
    "print (\"number of training examples = \" + str(X_train.shape[0]))\n",
    "print (\"number of test examples = \" + str(X_test.shape[0]))\n",
    "print (\"X_train shape: \" + str(X_train.shape))\n",
    "print (\"Y_train shape: \" + str(Y_train.shape))\n",
    "print (\"X_test shape: \" + str(X_test.shape))\n",
    "print (\"Y_test shape: \" + str(Y_test.shape))"
   ]
  },
  {
   "attachments": {},
   "cell_type": "markdown",
   "metadata": {},
   "source": [
    "你可以显示数据集中的图片, 这些图片为RGB颜色模式(即3通道)下分辨率为 **64x64** 的数据."
   ]
  },
  {
   "cell_type": "code",
   "execution_count": 29,
   "metadata": {},
   "outputs": [
    {
     "data": {
      "image/png": "[encoded data removed]",
      "text/plain": [
       "<Figure size 640x480 with 1 Axes>"
      ]
     },
     "metadata": {},
     "output_type": "display_data"
    }
   ],
   "source": [
    "index = 124\n",
    "plt.imshow(X_train_orig[index]) #display sample training image\n",
    "plt.show()"
   ]
  },
  {
   "attachments": {},
   "cell_type": "markdown",
   "metadata": {},
   "source": [
    "<a name='2'></a>\n",
    "## 2 - TF Keras中的网络层\n",
    "\n",
    "之前的实验中, 你通过numpy来手动构建网络层. 在TF Keras中, 你可以直接调用预定义的网络层."
   ]
  },
  {
   "attachments": {},
   "cell_type": "markdown",
   "metadata": {},
   "source": [
    "<a name='3'></a>\n",
    "## 3 - The Sequential API\n",
    "\n",
    "在实验的第一部分, 你将使用Keras的Sequential API来创建一个模型, 此API允许你逐层构建模型, 每层仅有一个输入张量和一个输出张量.\n",
    "\n",
    "Sequential API非常简单和直观, 但只适合简单和直观的任务. 后面你会花时间探索另一种更为灵活和强大的选择: the Functional API."
   ]
  },
  {
   "attachments": {},
   "cell_type": "markdown",
   "metadata": {},
   "source": [
    "<a name='3-1'></a>\n",
    "### 3.1 - 创建一个顺序模型\n",
    "\n",
    "你可以通过`.add()`/`.pop()`方法来为顺序模型添加/删除网络层.\n",
    "\n",
    "你可以将顺序模型看做网络层的一个列表(类似与Python列表), 这些层存在顺序关系. 如果你的模型是非线性的或者某些层的输入/输出存在多个输入输出, 顺序模型可能并不适用!\n",
    "对于任意Keras中创建的层, 你需要指定输入数据的形状. 这是因为一开始需要初始化权重, 而权值的尺寸是由输入的尺寸决定的.\n",
    "\n",
    "<a name='ex-1'></a>\n",
    "#### 练习 1 - happyModel\n",
    "\n",
    "实现下面的 `happyModel` 函数来构建一个如下的模型: `ZEROPAD2D -> CONV2D -> BATCHNORM -> RELU -> MAXPOOL -> FLATTEN -> DENSE`. 帮助链接 [keras中文文档](https://keras.io/zh/)\n",
    "\n",
    " **提示:**\n",
    " \n",
    "在import部分已指定 **tensorflow.keras.layers** 的别名为 **tfl**"
   ]
  },
  {
   "cell_type": "code",
   "execution_count": 7,
   "metadata": {
    "deletable": false,
    "nbgrader": {
     "cell_type": "code",
     "checksum": "95d28b191f257bdd5b70c7b8952559d5",
     "grade": false,
     "grade_id": "cell-0e56d3fc28b69aec",
     "locked": false,
     "schema_version": 3,
     "solution": true,
     "task": false
    }
   },
   "outputs": [],
   "source": [
    "\"\"\"\n",
    "Function:\n",
    "    Implements the forward propagation for the binary classification model:\n",
    "    ZEROPAD2D -> CONV2D -> BATCHNORM -> RELU -> MAXPOOL -> FLATTEN -> DENSE\n",
    "\n",
    "    Note that for simplicity and grading purposes, you'll hard-code all the values\n",
    "    such as the stride and kernel (filter) sizes.\n",
    "    Normally, functions should take these values as function parameters.\n",
    "Returns:\n",
    "    model -- TF Keras model (object containing the information for the entire training process)\n",
    "\"\"\"\n",
    "def happyModel():\n",
    "    model = tf.keras.Sequential([\n",
    "            # YOUR CODE STARTS HERE\n",
    "            ## ZeroPadding2D with padding 3, input shape of 64 x 64 x 3\n",
    "            # tfl.ZeroPadding2D(padding=..., input_shape=...),\n",
    "            tf.keras.Input(shape=(64 , 64 ,3)),\n",
    "            tfl.ZeroPadding2D(padding=3),\n",
    "            ## Conv2D with 32 7x7 filters and stride of 1\n",
    "            tfl.Conv2D(filters=32,kernel_size=7,strides=1),\n",
    "            ## BatchNormalization for axis 3\n",
    "            tfl.BatchNormalization(axis=3, momentum=0.99, epsilon=0.001),\n",
    "            ## ReLU\n",
    "            tfl.ReLU(),\n",
    "            ## Max Pooling 2D with default parameters\n",
    "            tfl.MaxPool2D(),\n",
    "            ## Flatten layer\n",
    "            tfl.Flatten(),\n",
    "            ## Dense layer with 1 unit for output & 'sigmoid' activation\n",
    "            tfl.Dense(1,activation='sigmoid')\n",
    "            # YOUR CODE ENDS HERE\n",
    "        ])\n",
    "    \n",
    "    return model"
   ]
  },
  {
   "cell_type": "code",
   "execution_count": 8,
   "metadata": {
    "deletable": false,
    "editable": false,
    "nbgrader": {
     "cell_type": "code",
     "checksum": "8d3575c950e2e78149be2d05d671c80d",
     "grade": true,
     "grade_id": "cell-e3e1046e5c33d775",
     "locked": true,
     "points": 10,
     "schema_version": 3,
     "solution": false,
     "task": false
    }
   },
   "outputs": [
    {
     "name": "stdout",
     "output_type": "stream",
     "text": [
      "['ZeroPadding2D', (None, 70, 70, 3), 0, ((3, 3), (3, 3))]\n",
      "['Conv2D', (None, 64, 64, 32), 4736, 'valid', 'linear', 'GlorotUniform']\n",
      "['BatchNormalization', (None, 64, 64, 32), 128]\n",
      "['ReLU', (None, 64, 64, 32), 0]\n",
      "['MaxPooling2D', (None, 32, 32, 32), 0, (2, 2), (2, 2), 'valid']\n",
      "['Flatten', (None, 32768), 0]\n",
      "['Dense', (None, 1), 32769, 'sigmoid']\n",
      "\u001b[32mAll tests passed!\u001b[0m\n"
     ]
    }
   ],
   "source": [
    "happy_model = happyModel()\n",
    "# Print a summary for each layer\n",
    "for layer in summary(happy_model):\n",
    "    print(layer)\n",
    "    \n",
    "output = [['ZeroPadding2D', (None, 70, 70, 3), 0, ((3, 3), (3, 3))],\n",
    "            ['Conv2D', (None, 64, 64, 32), 4736, 'valid', 'linear', 'GlorotUniform'],\n",
    "            ['BatchNormalization', (None, 64, 64, 32), 128],\n",
    "            ['ReLU', (None, 64, 64, 32), 0],\n",
    "            ['MaxPooling2D', (None, 32, 32, 32), 0, (2, 2), (2, 2), 'valid'],\n",
    "            ['Flatten', (None, 32768), 0],\n",
    "            ['Dense', (None, 1), 32769, 'sigmoid']]\n",
    "    \n",
    "comparator(summary(happy_model), output)"
   ]
  },
  {
   "attachments": {},
   "cell_type": "markdown",
   "metadata": {},
   "source": [
    "现在模型已经创建, 接下来你可以在compile函数中指定训练所需的优化器(optimizer)和损失函数(loss). 如果将`accuracy`(即准确率)指定给参数`metrics`(即评价指标), 其类型将自动根据损失函数进行转换."
   ]
  },
  {
   "cell_type": "code",
   "execution_count": 9,
   "metadata": {},
   "outputs": [],
   "source": [
    "happy_model.compile(optimizer='adam',\n",
    "                   loss='binary_crossentropy',\n",
    "                   metrics=['accuracy'])"
   ]
  },
  {
   "attachments": {},
   "cell_type": "markdown",
   "metadata": {},
   "source": [
    "接下来通过`.summary()`方法检查模型的参数. 其输出包含网络层的类型, 输出数据的形状, 以及每一层的参数量."
   ]
  },
  {
   "cell_type": "code",
   "execution_count": 10,
   "metadata": {},
   "outputs": [
    {
     "name": "stdout",
     "output_type": "stream",
     "text": [
      "Model: \"sequential_1\"\n",
      "_________________________________________________________________\n",
      "Layer (type)                 Output Shape              Param #   \n",
      "=================================================================\n",
      "zero_padding2d_1 (ZeroPaddin (None, 70, 70, 3)         0         \n",
      "_________________________________________________________________\n",
      "conv2d_1 (Conv2D)            (None, 64, 64, 32)        4736      \n",
      "_________________________________________________________________\n",
      "batch_normalization_1 (Batch (None, 64, 64, 32)        128       \n",
      "_________________________________________________________________\n",
      "re_lu_1 (ReLU)               (None, 64, 64, 32)        0         \n",
      "_________________________________________________________________\n",
      "max_pooling2d_1 (MaxPooling2 (None, 32, 32, 32)        0         \n",
      "_________________________________________________________________\n",
      "flatten_1 (Flatten)          (None, 32768)             0         \n",
      "_________________________________________________________________\n",
      "dense_1 (Dense)              (None, 1)                 32769     \n",
      "=================================================================\n",
      "Total params: 37,633\n",
      "Trainable params: 37,569\n",
      "Non-trainable params: 64\n",
      "_________________________________________________________________\n"
     ]
    }
   ],
   "source": [
    "happy_model.summary()"
   ]
  },
  {
   "attachments": {},
   "cell_type": "markdown",
   "metadata": {},
   "source": [
    "<a name='3-2'></a>\n",
    "### 3.2 - 模型训练和评价\n",
    "\n",
    "通过 `.fit()` 方法可以开始模型训练, 其参数包括epoch数, 以及minibatch size."
   ]
  },
  {
   "cell_type": "code",
   "execution_count": 30,
   "metadata": {},
   "outputs": [
    {
     "name": "stdout",
     "output_type": "stream",
     "text": [
      "Epoch 1/20\n",
      "38/38 [==============================] - 3s 75ms/step - loss: 0.0458 - accuracy: 0.9867\n",
      "Epoch 2/20\n",
      "38/38 [==============================] - 2s 65ms/step - loss: 0.0529 - accuracy: 0.9867\n",
      "Epoch 3/20\n",
      "38/38 [==============================] - 2s 61ms/step - loss: 0.0736 - accuracy: 0.9750\n",
      "Epoch 4/20\n",
      "38/38 [==============================] - 2s 59ms/step - loss: 0.0407 - accuracy: 0.9833\n",
      "Epoch 5/20\n",
      "38/38 [==============================] - 2s 60ms/step - loss: 0.1081 - accuracy: 0.9633\n",
      "Epoch 6/20\n",
      "38/38 [==============================] - 2s 61ms/step - loss: 0.0940 - accuracy: 0.9767\n",
      "Epoch 7/20\n",
      "38/38 [==============================] - 2s 60ms/step - loss: 0.0264 - accuracy: 0.9917\n",
      "Epoch 8/20\n",
      "38/38 [==============================] - 2s 61ms/step - loss: 0.0447 - accuracy: 0.9883\n",
      "Epoch 9/20\n",
      "38/38 [==============================] - 2s 59ms/step - loss: 0.0878 - accuracy: 0.9750\n",
      "Epoch 10/20\n",
      "38/38 [==============================] - 2s 57ms/step - loss: 0.0599 - accuracy: 0.9783\n",
      "Epoch 11/20\n",
      "38/38 [==============================] - 2s 58ms/step - loss: 0.0503 - accuracy: 0.9817\n",
      "Epoch 12/20\n",
      "38/38 [==============================] - 2s 62ms/step - loss: 0.0587 - accuracy: 0.9817\n",
      "Epoch 13/20\n",
      "38/38 [==============================] - 3s 70ms/step - loss: 0.0403 - accuracy: 0.9917\n",
      "Epoch 14/20\n",
      "38/38 [==============================] - 3s 74ms/step - loss: 0.0459 - accuracy: 0.9850\n",
      "Epoch 15/20\n",
      "38/38 [==============================] - 2s 60ms/step - loss: 0.0283 - accuracy: 0.9900\n",
      "Epoch 16/20\n",
      "38/38 [==============================] - 2s 60ms/step - loss: 0.1844 - accuracy: 0.9483\n",
      "Epoch 17/20\n",
      "38/38 [==============================] - 2s 60ms/step - loss: 0.0984 - accuracy: 0.9733\n",
      "Epoch 18/20\n",
      "38/38 [==============================] - 2s 59ms/step - loss: 0.0402 - accuracy: 0.9833\n",
      "Epoch 19/20\n",
      "38/38 [==============================] - 2s 64ms/step - loss: 0.0438 - accuracy: 0.9867\n",
      "Epoch 20/20\n",
      "38/38 [==============================] - 2s 65ms/step - loss: 0.0319 - accuracy: 0.9900\n"
     ]
    },
    {
     "data": {
      "text/plain": [
       "<tensorflow.python.keras.callbacks.History at 0x21f5ccad430>"
      ]
     },
     "execution_count": 30,
     "metadata": {},
     "output_type": "execute_result"
    }
   ],
   "source": [
    "happy_model.fit(X_train, Y_train, epochs=20, batch_size=16)"
   ]
  },
  {
   "attachments": {},
   "cell_type": "markdown",
   "metadata": {},
   "source": [
    "然后可以通过调用`.evaluate()`方法加载测试数据, 已完成进行评价. 该方法将打印损失函数值和性能指标值. 在本例中即 `binary_crossentropy` 和 `accuracy`."
   ]
  },
  {
   "cell_type": "code",
   "execution_count": 31,
   "metadata": {},
   "outputs": [
    {
     "name": "stdout",
     "output_type": "stream",
     "text": [
      "5/5 [==============================] - 0s 23ms/step - loss: 0.7227 - accuracy: 0.8000\n"
     ]
    },
    {
     "data": {
      "text/plain": [
       "[0.7226663827896118, 0.800000011920929]"
      ]
     },
     "execution_count": 31,
     "metadata": {},
     "output_type": "execute_result"
    }
   ],
   "source": [
    "happy_model.evaluate(X_test, Y_test)"
   ]
  },
  {
   "attachments": {},
   "cell_type": "markdown",
   "metadata": {},
   "source": [
    "很简单对吧. 但是如果你要构建一个模型具有共享层, 分支或多个输入输出, 则需要使用下面的Functional API."
   ]
  },
  {
   "attachments": {},
   "cell_type": "markdown",
   "metadata": {},
   "source": [
    "<a name='4'></a>\n",
    "## 4 - The Functional API"
   ]
  },
  {
   "attachments": {},
   "cell_type": "markdown",
   "metadata": {},
   "source": [
    "欢迎来到本实验的第二部分, 你将使用Keras中灵活的[Functional API](https://www.tensorflow.org/guide/keras/functional) 来构建CNN, 以区分6种不同的手势数字.\n",
    "\n",
    "功能性API能处理非线性拓扑结构的模型, 共享层, 以及具有多个输入输出的层. 如果说Sequential API是构建线性结构的模型(Sequential Movement), 那么Functional API则可以构建图结构的模型(例如下图中的Skip Connection).\n",
    "\n",
    "<img src=\"images/seq_vs_func.png\" width=600>"
   ]
  },
  {
   "attachments": {},
   "cell_type": "markdown",
   "metadata": {},
   "source": [
    "<a name='4-1'></a>\n",
    "### 4.1 - 加载SIGNS数据集\n",
    "\n",
    "如下图所示, SIGNS 数据集包含6中手势信号, 分别对应着数值0至5.\n",
    "<img src=\"images/SIGNS.png\" width=1000>\n",
    "可通过下面的代码加载这些数据"
   ]
  },
  {
   "cell_type": "code",
   "execution_count": 39,
   "metadata": {},
   "outputs": [],
   "source": [
    "# Loading the data (signs)\n",
    "X_train_orig, Y_train_orig, X_test_orig, Y_test_orig, classes = load_signs_dataset()"
   ]
  },
  {
   "attachments": {},
   "cell_type": "markdown",
   "metadata": {},
   "source": [
    "运行下面的代码来显示载入的数据及其标签值."
   ]
  },
  {
   "cell_type": "code",
   "execution_count": 40,
   "metadata": {},
   "outputs": [
    {
     "name": "stdout",
     "output_type": "stream",
     "text": [
      "y = 4\n"
     ]
    },
    {
     "data": {
      "image/png": "[encoded data removed]",
      "text/plain": [
       "<Figure size 640x480 with 1 Axes>"
      ]
     },
     "metadata": {},
     "output_type": "display_data"
    }
   ],
   "source": [
    "# Example of an image from the dataset\n",
    "index = 9\n",
    "plt.imshow(X_train_orig[index])\n",
    "print (\"y = \" + str(np.squeeze(Y_train_orig[:, index])))"
   ]
  },
  {
   "attachments": {},
   "cell_type": "markdown",
   "metadata": {},
   "source": [
    "<a name='4-2'></a>\n",
    "### 4.2 - 将数据拆分为训练集和测试集\n",
    "首先让我们了解数据的形状尺寸"
   ]
  },
  {
   "cell_type": "code",
   "execution_count": 41,
   "metadata": {},
   "outputs": [
    {
     "name": "stdout",
     "output_type": "stream",
     "text": [
      "number of training examples = 1080\n",
      "number of test examples = 120\n",
      "X_train shape: (1080, 64, 64, 3)\n",
      "Y_train shape: (1080, 6)\n",
      "X_test shape: (120, 64, 64, 3)\n",
      "Y_test shape: (120, 6)\n"
     ]
    }
   ],
   "source": [
    "X_train = X_train_orig/255.\n",
    "X_test = X_test_orig/255.\n",
    "Y_train = convert_to_one_hot(Y_train_orig, 6).T\n",
    "Y_test = convert_to_one_hot(Y_test_orig, 6).T\n",
    "print (\"number of training examples = \" + str(X_train.shape[0]))\n",
    "print (\"number of test examples = \" + str(X_test.shape[0]))\n",
    "print (\"X_train shape: \" + str(X_train.shape))\n",
    "print (\"Y_train shape: \" + str(Y_train.shape))\n",
    "print (\"X_test shape: \" + str(X_test.shape))\n",
    "print (\"Y_test shape: \" + str(Y_test.shape))"
   ]
  },
  {
   "attachments": {},
   "cell_type": "markdown",
   "metadata": {},
   "source": [
    "<a name='4-3'></a>\n",
    "### 4.3 - 前向传播\n",
    "在TF中预定义了实现卷积的函数. 其使用到计算图的概念.\n",
    "下面的模型虽然也可以使用Sequential API来实现, 但在本练习中, 你将使用functional API."
   ]
  },
  {
   "attachments": {},
   "cell_type": "markdown",
   "metadata": {},
   "source": [
    "<a name='ex-2'></a>\n",
    "#### 练习 2 - convolutional_model\n",
    "\n",
    "实现下面的 `convolutional_model` 函数来构建一个模型: `CONV2D -> RELU -> MAXPOOL -> CONV2D -> RELU -> MAXPOOL -> FLATTEN -> DENSE`.\n",
    "要求:\n",
    "使用上面的函数!\n",
    "\n",
    "Also, plug in the following parameters for all the steps:\n",
    "\n",
    " - [Conv2D](https://www.tensorflow.org/api_docs/python/tf/keras/layers/Conv2D): Use 8 4 by 4 filters, stride 1, padding is \"SAME\"\n",
    " - [ReLU](https://www.tensorflow.org/api_docs/python/tf/keras/layers/ReLU)\n",
    " - [MaxPool2D](https://www.tensorflow.org/api_docs/python/tf/keras/layers/MaxPool2D): Use an 8 by 8 filter size and an 8 by 8 stride, padding is \"SAME\"\n",
    " - **Conv2D**: Use 16 2 by 2 filters, stride 1, padding is \"SAME\"\n",
    " - **ReLU**\n",
    " - **MaxPool2D**: Use a 4 by 4 filter size and a 4 by 4 stride, padding is \"SAME\"\n",
    " - [Flatten](https://www.tensorflow.org/api_docs/python/tf/keras/layers/Flatten) the previous output.\n",
    " - Fully-connected ([Dense](https://www.tensorflow.org/api_docs/python/tf/keras/layers/Dense)) layer: Apply a fully connected layer with 6 neurons and a softmax activation. "
   ]
  },
  {
   "cell_type": "code",
   "execution_count": 42,
   "metadata": {
    "deletable": false,
    "nbgrader": {
     "cell_type": "code",
     "checksum": "f58643806aa8380c96225fc8b4c5e7aa",
     "grade": false,
     "grade_id": "cell-dac51744a9e03f51",
     "locked": false,
     "schema_version": 3,
     "solution": true,
     "task": false
    }
   },
   "outputs": [],
   "source": [
    "\"\"\"\n",
    "Function:\n",
    "    Implements the forward propagation for the model:\n",
    "    CONV2D -> RELU -> MAXPOOL -> CONV2D -> RELU -> MAXPOOL -> FLATTEN -> DENSE\n",
    "\n",
    "    Note that for simplicity and grading purposes, you'll hard-code some values\n",
    "    such as the stride and kernel (filter) sizes.\n",
    "    Normally, functions should take these values as function parameters.\n",
    "Arguments:\n",
    "    input_img -- input dataset, of shape (input_shape)\n",
    "Returns:\n",
    "    model -- TF Keras model (object containing the information for the entire training process)\n",
    "\"\"\"\n",
    "def convolutional_model(input_shape):\n",
    "    input_img = tf.keras.Input(shape=input_shape)\n",
    "    # YOUR CODE STARTS HERE\n",
    "    ## CONV2D: 8 filters 4x4, stride of 1, padding 'SAME'\n",
    "    # Z1 = None\n",
    "    Z1 = tfl.Conv2D(filters= 8. , kernel_size=4 , padding='same',strides=1)(input_img)\n",
    "    ## RELU\n",
    "    # A1 = None\n",
    "    A1 = tfl.ReLU()(Z1)\n",
    "    ## MAXPOOL: window 8x8, stride 8, padding 'SAME'\n",
    "    # P1 = None\n",
    "    P1 = tfl.MaxPool2D(pool_size=8, strides=8, padding='SAME')(A1)\n",
    "    ## CONV2D: 16 filters 2x2, stride 1, padding 'SAME'\n",
    "    # Z2 = None\n",
    "    Z2 = tfl.Conv2D(filters= 16. , kernel_size=2 , padding='same',strides=1)(P1)\n",
    "    ## RELU\n",
    "    # A2 = None\n",
    "    A2 =  tfl.ReLU()(Z2)\n",
    "    ## MAXPOOL: window 4x4, stride 4, padding 'SAME'\n",
    "    # P2 = None\n",
    "    P2 = tfl.MaxPool2D(pool_size=4, strides=4, padding='SAME')(A2)\n",
    "    ## FLATTEN\n",
    "    # F = None\n",
    "    F = tfl.Flatten()(P2)\n",
    "    ## Dense layer: 6 neurons in output layer. Hint: one of the arguments should be \"activation='softmax'\"\n",
    "    # outputs = None\n",
    "    outputs = tfl.Dense(units= 6 , activation='softmax')(F)\n",
    "    # YOUR CODE ENDS HERE\n",
    "    model = tf.keras.Model(inputs=input_img, outputs=outputs)\n",
    "    return model"
   ]
  },
  {
   "cell_type": "code",
   "execution_count": 43,
   "metadata": {
    "deletable": false,
    "editable": false,
    "nbgrader": {
     "cell_type": "code",
     "checksum": "483d626949930a0b0ef20997e7c6ba72",
     "grade": true,
     "grade_id": "cell-45d22e92042174c9",
     "locked": true,
     "points": 10,
     "schema_version": 3,
     "solution": false,
     "task": false
    }
   },
   "outputs": [
    {
     "name": "stdout",
     "output_type": "stream",
     "text": [
      "Model: \"functional_7\"\n",
      "_________________________________________________________________\n",
      "Layer (type)                 Output Shape              Param #   \n",
      "=================================================================\n",
      "input_5 (InputLayer)         [(None, 64, 64, 3)]       0         \n",
      "_________________________________________________________________\n",
      "conv2d_8 (Conv2D)            (None, 64, 64, 8)         392       \n",
      "_________________________________________________________________\n",
      "re_lu_8 (ReLU)               (None, 64, 64, 8)         0         \n",
      "_________________________________________________________________\n",
      "max_pooling2d_8 (MaxPooling2 (None, 8, 8, 8)           0         \n",
      "_________________________________________________________________\n",
      "conv2d_9 (Conv2D)            (None, 8, 8, 16)          528       \n",
      "_________________________________________________________________\n",
      "re_lu_9 (ReLU)               (None, 8, 8, 16)          0         \n",
      "_________________________________________________________________\n",
      "max_pooling2d_9 (MaxPooling2 (None, 2, 2, 16)          0         \n",
      "_________________________________________________________________\n",
      "flatten_5 (Flatten)          (None, 64)                0         \n",
      "_________________________________________________________________\n",
      "dense_5 (Dense)              (None, 6)                 390       \n",
      "=================================================================\n",
      "Total params: 1,310\n",
      "Trainable params: 1,310\n",
      "Non-trainable params: 0\n",
      "_________________________________________________________________\n",
      "\u001b[32mAll tests passed!\u001b[0m\n"
     ]
    }
   ],
   "source": [
    "conv_model = convolutional_model((64, 64, 3))\n",
    "conv_model.compile(optimizer='adam',\n",
    "                  loss='categorical_crossentropy',\n",
    "                  metrics=['accuracy'])\n",
    "conv_model.summary()\n",
    "    \n",
    "output = [['InputLayer', [(None, 64, 64, 3)], 0],\n",
    "        ['Conv2D', (None, 64, 64, 8), 392, 'same', 'linear', 'GlorotUniform'],\n",
    "        ['ReLU', (None, 64, 64, 8), 0],\n",
    "        ['MaxPooling2D', (None, 8, 8, 8), 0, (8, 8), (8, 8), 'same'],\n",
    "        ['Conv2D', (None, 8, 8, 16), 528, 'same', 'linear', 'GlorotUniform'],\n",
    "        ['ReLU', (None, 8, 8, 16), 0],\n",
    "        ['MaxPooling2D', (None, 2, 2, 16), 0, (4, 4), (4, 4), 'same'],\n",
    "        ['Flatten', (None, 64), 0],\n",
    "        ['Dense', (None, 6), 390, 'softmax']]\n",
    "    \n",
    "comparator(summary(conv_model), output)"
   ]
  },
  {
   "attachments": {},
   "cell_type": "markdown",
   "metadata": {},
   "source": [
    "Sequential和Functional APIs都会返回一个Keras模型对象. 区别在于输入数据在模型中是如何处理的!"
   ]
  },
  {
   "attachments": {},
   "cell_type": "markdown",
   "metadata": {
    "collapsed": false
   },
   "source": [
    "<a name='4-4'></a>\n",
    "### 4.4 - 模型训练"
   ]
  },
  {
   "cell_type": "code",
   "execution_count": 44,
   "metadata": {},
   "outputs": [
    {
     "name": "stdout",
     "output_type": "stream",
     "text": [
      "Epoch 1/60\n",
      "17/17 [==============================] - 1s 44ms/step - loss: 1.8482 - accuracy: 0.1694 - val_loss: 1.7985 - val_accuracy: 0.1083\n",
      "Epoch 2/60\n",
      "17/17 [==============================] - 1s 37ms/step - loss: 1.7939 - accuracy: 0.1602 - val_loss: 1.7929 - val_accuracy: 0.1333\n",
      "Epoch 3/60\n",
      "17/17 [==============================] - 1s 39ms/step - loss: 1.7871 - accuracy: 0.1815 - val_loss: 1.7874 - val_accuracy: 0.1500\n",
      "Epoch 4/60\n",
      "17/17 [==============================] - 1s 37ms/step - loss: 1.7844 - accuracy: 0.2269 - val_loss: 1.7840 - val_accuracy: 0.2250\n",
      "Epoch 5/60\n",
      "17/17 [==============================] - 1s 39ms/step - loss: 1.7807 - accuracy: 0.2556 - val_loss: 1.7787 - val_accuracy: 0.3417\n",
      "Epoch 6/60\n",
      "17/17 [==============================] - 1s 39ms/step - loss: 1.7759 - accuracy: 0.2796 - val_loss: 1.7731 - val_accuracy: 0.3250\n",
      "Epoch 7/60\n",
      "17/17 [==============================] - 1s 37ms/step - loss: 1.7700 - accuracy: 0.3185 - val_loss: 1.7676 - val_accuracy: 0.3250\n",
      "Epoch 8/60\n",
      "17/17 [==============================] - 1s 38ms/step - loss: 1.7635 - accuracy: 0.2861 - val_loss: 1.7625 - val_accuracy: 0.3333\n",
      "Epoch 9/60\n",
      "17/17 [==============================] - 1s 40ms/step - loss: 1.7501 - accuracy: 0.3704 - val_loss: 1.7503 - val_accuracy: 0.4167\n",
      "Epoch 10/60\n",
      "17/17 [==============================] - 1s 37ms/step - loss: 1.7342 - accuracy: 0.3648 - val_loss: 1.7356 - val_accuracy: 0.3917\n",
      "Epoch 11/60\n",
      "17/17 [==============================] - 1s 38ms/step - loss: 1.7144 - accuracy: 0.3806 - val_loss: 1.7184 - val_accuracy: 0.4083\n",
      "Epoch 12/60\n",
      "17/17 [==============================] - 1s 38ms/step - loss: 1.6897 - accuracy: 0.3981 - val_loss: 1.6969 - val_accuracy: 0.4417\n",
      "Epoch 13/60\n",
      "17/17 [==============================] - 1s 38ms/step - loss: 1.6595 - accuracy: 0.4222 - val_loss: 1.6708 - val_accuracy: 0.4333\n",
      "Epoch 14/60\n",
      "17/17 [==============================] - 1s 37ms/step - loss: 1.6252 - accuracy: 0.4296 - val_loss: 1.6395 - val_accuracy: 0.4833\n",
      "Epoch 15/60\n",
      "17/17 [==============================] - 1s 40ms/step - loss: 1.5864 - accuracy: 0.4407 - val_loss: 1.6044 - val_accuracy: 0.4583\n",
      "Epoch 16/60\n",
      "17/17 [==============================] - 1s 38ms/step - loss: 1.5453 - accuracy: 0.4519 - val_loss: 1.5668 - val_accuracy: 0.4667\n",
      "Epoch 17/60\n",
      "17/17 [==============================] - 1s 40ms/step - loss: 1.5037 - accuracy: 0.4704 - val_loss: 1.5296 - val_accuracy: 0.4750\n",
      "Epoch 18/60\n",
      "17/17 [==============================] - 1s 38ms/step - loss: 1.4625 - accuracy: 0.4907 - val_loss: 1.4915 - val_accuracy: 0.4833\n",
      "Epoch 19/60\n",
      "17/17 [==============================] - 1s 38ms/step - loss: 1.4223 - accuracy: 0.5000 - val_loss: 1.4550 - val_accuracy: 0.5000\n",
      "Epoch 20/60\n",
      "17/17 [==============================] - 1s 37ms/step - loss: 1.3821 - accuracy: 0.5222 - val_loss: 1.4212 - val_accuracy: 0.5000\n",
      "Epoch 21/60\n",
      "17/17 [==============================] - 1s 39ms/step - loss: 1.3445 - accuracy: 0.5417 - val_loss: 1.3871 - val_accuracy: 0.5000\n",
      "Epoch 22/60\n",
      "17/17 [==============================] - 1s 38ms/step - loss: 1.3083 - accuracy: 0.5546 - val_loss: 1.3498 - val_accuracy: 0.5167\n",
      "Epoch 23/60\n",
      "17/17 [==============================] - 1s 38ms/step - loss: 1.2747 - accuracy: 0.5565 - val_loss: 1.3136 - val_accuracy: 0.5167\n",
      "Epoch 24/60\n",
      "17/17 [==============================] - 1s 38ms/step - loss: 1.2413 - accuracy: 0.5685 - val_loss: 1.2775 - val_accuracy: 0.5167\n",
      "Epoch 25/60\n",
      "17/17 [==============================] - 1s 40ms/step - loss: 1.2079 - accuracy: 0.5852 - val_loss: 1.2407 - val_accuracy: 0.5667\n",
      "Epoch 26/60\n",
      "17/17 [==============================] - 1s 39ms/step - loss: 1.1758 - accuracy: 0.6009 - val_loss: 1.2057 - val_accuracy: 0.5667\n",
      "Epoch 27/60\n",
      "17/17 [==============================] - 1s 40ms/step - loss: 1.1454 - accuracy: 0.6222 - val_loss: 1.1732 - val_accuracy: 0.5833\n",
      "Epoch 28/60\n",
      "17/17 [==============================] - 1s 40ms/step - loss: 1.1163 - accuracy: 0.6315 - val_loss: 1.1421 - val_accuracy: 0.6000\n",
      "Epoch 29/60\n",
      "17/17 [==============================] - 1s 38ms/step - loss: 1.0893 - accuracy: 0.6435 - val_loss: 1.1119 - val_accuracy: 0.6167\n",
      "Epoch 30/60\n",
      "17/17 [==============================] - 1s 38ms/step - loss: 1.0626 - accuracy: 0.6519 - val_loss: 1.0823 - val_accuracy: 0.6083\n",
      "Epoch 31/60\n",
      "17/17 [==============================] - 1s 38ms/step - loss: 1.0359 - accuracy: 0.6694 - val_loss: 1.0531 - val_accuracy: 0.6167\n",
      "Epoch 32/60\n",
      "17/17 [==============================] - 1s 40ms/step - loss: 1.0106 - accuracy: 0.6796 - val_loss: 1.0254 - val_accuracy: 0.6250\n",
      "Epoch 33/60\n",
      "17/17 [==============================] - 1s 38ms/step - loss: 0.9858 - accuracy: 0.6852 - val_loss: 0.9985 - val_accuracy: 0.6500\n",
      "Epoch 34/60\n",
      "17/17 [==============================] - 1s 38ms/step - loss: 0.9626 - accuracy: 0.6907 - val_loss: 0.9720 - val_accuracy: 0.6667\n",
      "Epoch 35/60\n",
      "17/17 [==============================] - 1s 39ms/step - loss: 0.9397 - accuracy: 0.7009 - val_loss: 0.9470 - val_accuracy: 0.6833\n",
      "Epoch 36/60\n",
      "17/17 [==============================] - 1s 41ms/step - loss: 0.9176 - accuracy: 0.7074 - val_loss: 0.9239 - val_accuracy: 0.6917\n",
      "Epoch 37/60\n",
      "17/17 [==============================] - 1s 40ms/step - loss: 0.8964 - accuracy: 0.7167 - val_loss: 0.9027 - val_accuracy: 0.6917\n",
      "Epoch 38/60\n",
      "17/17 [==============================] - 1s 40ms/step - loss: 0.8767 - accuracy: 0.7204 - val_loss: 0.8827 - val_accuracy: 0.7167\n",
      "Epoch 39/60\n",
      "17/17 [==============================] - 1s 39ms/step - loss: 0.8579 - accuracy: 0.7287 - val_loss: 0.8635 - val_accuracy: 0.7167\n",
      "Epoch 40/60\n",
      "17/17 [==============================] - 1s 38ms/step - loss: 0.8395 - accuracy: 0.7315 - val_loss: 0.8455 - val_accuracy: 0.7167\n",
      "Epoch 41/60\n",
      "17/17 [==============================] - 1s 38ms/step - loss: 0.8219 - accuracy: 0.7343 - val_loss: 0.8280 - val_accuracy: 0.7167\n",
      "Epoch 42/60\n",
      "17/17 [==============================] - 1s 37ms/step - loss: 0.8045 - accuracy: 0.7380 - val_loss: 0.8126 - val_accuracy: 0.7250\n",
      "Epoch 43/60\n",
      "17/17 [==============================] - 1s 40ms/step - loss: 0.7887 - accuracy: 0.7417 - val_loss: 0.7972 - val_accuracy: 0.7250\n",
      "Epoch 44/60\n",
      "17/17 [==============================] - 1s 38ms/step - loss: 0.7736 - accuracy: 0.7463 - val_loss: 0.7826 - val_accuracy: 0.7333\n",
      "Epoch 45/60\n",
      "17/17 [==============================] - 1s 38ms/step - loss: 0.7585 - accuracy: 0.7509 - val_loss: 0.7680 - val_accuracy: 0.7250\n",
      "Epoch 46/60\n",
      "17/17 [==============================] - 1s 38ms/step - loss: 0.7442 - accuracy: 0.7574 - val_loss: 0.7541 - val_accuracy: 0.7333\n",
      "Epoch 47/60\n",
      "17/17 [==============================] - 1s 39ms/step - loss: 0.7303 - accuracy: 0.7630 - val_loss: 0.7409 - val_accuracy: 0.7417\n",
      "Epoch 48/60\n",
      "17/17 [==============================] - 1s 38ms/step - loss: 0.7168 - accuracy: 0.7667 - val_loss: 0.7284 - val_accuracy: 0.7583\n",
      "Epoch 49/60\n",
      "17/17 [==============================] - 1s 41ms/step - loss: 0.7036 - accuracy: 0.7676 - val_loss: 0.7164 - val_accuracy: 0.7583\n",
      "Epoch 50/60\n",
      "17/17 [==============================] - 1s 38ms/step - loss: 0.6912 - accuracy: 0.7731 - val_loss: 0.7047 - val_accuracy: 0.7667\n",
      "Epoch 51/60\n",
      "17/17 [==============================] - 1s 38ms/step - loss: 0.6794 - accuracy: 0.7741 - val_loss: 0.6939 - val_accuracy: 0.7750\n",
      "Epoch 52/60\n",
      "17/17 [==============================] - 1s 38ms/step - loss: 0.6679 - accuracy: 0.7824 - val_loss: 0.6833 - val_accuracy: 0.7917\n",
      "Epoch 53/60\n",
      "17/17 [==============================] - 1s 38ms/step - loss: 0.6570 - accuracy: 0.7898 - val_loss: 0.6738 - val_accuracy: 0.7917\n",
      "Epoch 54/60\n",
      "17/17 [==============================] - 1s 40ms/step - loss: 0.6466 - accuracy: 0.7917 - val_loss: 0.6642 - val_accuracy: 0.7917\n",
      "Epoch 55/60\n",
      "17/17 [==============================] - 1s 39ms/step - loss: 0.6363 - accuracy: 0.7981 - val_loss: 0.6546 - val_accuracy: 0.7917\n",
      "Epoch 56/60\n",
      "17/17 [==============================] - 1s 39ms/step - loss: 0.6263 - accuracy: 0.8019 - val_loss: 0.6458 - val_accuracy: 0.7917\n",
      "Epoch 57/60\n",
      "17/17 [==============================] - 1s 39ms/step - loss: 0.6169 - accuracy: 0.8056 - val_loss: 0.6377 - val_accuracy: 0.7917\n",
      "Epoch 58/60\n",
      "17/17 [==============================] - 1s 40ms/step - loss: 0.6078 - accuracy: 0.8102 - val_loss: 0.6308 - val_accuracy: 0.8000\n",
      "Epoch 59/60\n",
      "17/17 [==============================] - 1s 41ms/step - loss: 0.5991 - accuracy: 0.8130 - val_loss: 0.6230 - val_accuracy: 0.8000\n",
      "Epoch 60/60\n",
      "17/17 [==============================] - 1s 41ms/step - loss: 0.5910 - accuracy: 0.8148 - val_loss: 0.6165 - val_accuracy: 0.7917\n"
     ]
    }
   ],
   "source": [
    "train_dataset = tf.data.Dataset.from_tensor_slices((X_train, Y_train)).batch(64)\n",
    "test_dataset = tf.data.Dataset.from_tensor_slices((X_test, Y_test)).batch(64)\n",
    "history = conv_model.fit(train_dataset, epochs=60, validation_data=test_dataset)"
   ]
  },
  {
   "attachments": {},
   "cell_type": "markdown",
   "metadata": {},
   "source": [
    "<a name='5'></a>\n",
    "## 5 - 历史对象\n",
    "\n",
    "`.fit()`函数将返回一个历史对象, 其中以字典形式记录了所有的loss和评价指标数值. 通过命令`history.history`可以获取这些数据:"
   ]
  },
  {
   "cell_type": "code",
   "execution_count": 45,
   "metadata": {},
   "outputs": [
    {
     "data": {
      "text/plain": [
       "{'loss': [1.8482342958450317,\n",
       "  1.793876051902771,\n",
       "  1.7870627641677856,\n",
       "  1.7843947410583496,\n",
       "  1.7806923389434814,\n",
       "  1.7759153842926025,\n",
       "  1.769972324371338,\n",
       "  1.7635129690170288,\n",
       "  1.7500630617141724,\n",
       "  1.734153151512146,\n",
       "  1.7144383192062378,\n",
       "  1.6896681785583496,\n",
       "  1.6594644784927368,\n",
       "  1.625153660774231,\n",
       "  1.5864198207855225,\n",
       "  1.5453118085861206,\n",
       "  1.5037059783935547,\n",
       "  1.4624650478363037,\n",
       "  1.4222965240478516,\n",
       "  1.3820964097976685,\n",
       "  1.3445310592651367,\n",
       "  1.3082919120788574,\n",
       "  1.2746849060058594,\n",
       "  1.2412782907485962,\n",
       "  1.2079424858093262,\n",
       "  1.1757941246032715,\n",
       "  1.1453975439071655,\n",
       "  1.1162691116333008,\n",
       "  1.0892823934555054,\n",
       "  1.062630295753479,\n",
       "  1.0359019041061401,\n",
       "  1.01055908203125,\n",
       "  0.9858003854751587,\n",
       "  0.9626099467277527,\n",
       "  0.9396873712539673,\n",
       "  0.9176303744316101,\n",
       "  0.896420955657959,\n",
       "  0.8766951560974121,\n",
       "  0.857873797416687,\n",
       "  0.839454174041748,\n",
       "  0.8218719363212585,\n",
       "  0.8045449256896973,\n",
       "  0.7886990904808044,\n",
       "  0.7735888957977295,\n",
       "  0.7584639191627502,\n",
       "  0.7442330718040466,\n",
       "  0.7302576303482056,\n",
       "  0.7167589664459229,\n",
       "  0.7035799622535706,\n",
       "  0.6912192702293396,\n",
       "  0.6794381141662598,\n",
       "  0.6678517460823059,\n",
       "  0.6570425033569336,\n",
       "  0.6465900540351868,\n",
       "  0.6363309025764465,\n",
       "  0.6262898445129395,\n",
       "  0.6169037222862244,\n",
       "  0.607762336730957,\n",
       "  0.5990747213363647,\n",
       "  0.5909803509712219],\n",
       " 'accuracy': [0.16944444179534912,\n",
       "  0.16018518805503845,\n",
       "  0.1814814805984497,\n",
       "  0.22685185074806213,\n",
       "  0.25555557012557983,\n",
       "  0.2796296179294586,\n",
       "  0.3185185194015503,\n",
       "  0.28611111640930176,\n",
       "  0.37037035822868347,\n",
       "  0.364814817905426,\n",
       "  0.38055557012557983,\n",
       "  0.39814814925193787,\n",
       "  0.42222222685813904,\n",
       "  0.4296296238899231,\n",
       "  0.4407407343387604,\n",
       "  0.45185184478759766,\n",
       "  0.4703703820705414,\n",
       "  0.49074074625968933,\n",
       "  0.5,\n",
       "  0.5222222208976746,\n",
       "  0.5416666865348816,\n",
       "  0.5546296238899231,\n",
       "  0.5564814805984497,\n",
       "  0.5685185194015503,\n",
       "  0.585185170173645,\n",
       "  0.6009259223937988,\n",
       "  0.6222222447395325,\n",
       "  0.6314814686775208,\n",
       "  0.6435185074806213,\n",
       "  0.6518518328666687,\n",
       "  0.6694444417953491,\n",
       "  0.6796296238899231,\n",
       "  0.6851851940155029,\n",
       "  0.6907407641410828,\n",
       "  0.7009259462356567,\n",
       "  0.7074074149131775,\n",
       "  0.7166666388511658,\n",
       "  0.720370352268219,\n",
       "  0.7287036776542664,\n",
       "  0.7314814925193787,\n",
       "  0.7342592477798462,\n",
       "  0.7379629611968994,\n",
       "  0.7416666746139526,\n",
       "  0.7462962865829468,\n",
       "  0.7509258985519409,\n",
       "  0.7574074268341064,\n",
       "  0.7629629373550415,\n",
       "  0.7666666507720947,\n",
       "  0.7675926089286804,\n",
       "  0.7731481194496155,\n",
       "  0.7740740776062012,\n",
       "  0.7824074029922485,\n",
       "  0.789814829826355,\n",
       "  0.7916666865348816,\n",
       "  0.7981481552124023,\n",
       "  0.8018518686294556,\n",
       "  0.8055555820465088,\n",
       "  0.8101851940155029,\n",
       "  0.8129629492759705,\n",
       "  0.8148148059844971],\n",
       " 'val_loss': [1.7984689474105835,\n",
       "  1.7929476499557495,\n",
       "  1.787432074546814,\n",
       "  1.7840417623519897,\n",
       "  1.7787317037582397,\n",
       "  1.7730604410171509,\n",
       "  1.76762056350708,\n",
       "  1.762529969215393,\n",
       "  1.7503224611282349,\n",
       "  1.7356244325637817,\n",
       "  1.7184364795684814,\n",
       "  1.6968528032302856,\n",
       "  1.6708086729049683,\n",
       "  1.6394505500793457,\n",
       "  1.6043970584869385,\n",
       "  1.5668479204177856,\n",
       "  1.5295746326446533,\n",
       "  1.4914510250091553,\n",
       "  1.455016016960144,\n",
       "  1.4211794137954712,\n",
       "  1.3870769739151,\n",
       "  1.3498433828353882,\n",
       "  1.313603162765503,\n",
       "  1.2774592638015747,\n",
       "  1.240660309791565,\n",
       "  1.2057433128356934,\n",
       "  1.1731572151184082,\n",
       "  1.1421254873275757,\n",
       "  1.1118779182434082,\n",
       "  1.0823413133621216,\n",
       "  1.0530850887298584,\n",
       "  1.0253753662109375,\n",
       "  0.9985423684120178,\n",
       "  0.9720324277877808,\n",
       "  0.9470118284225464,\n",
       "  0.923855185508728,\n",
       "  0.9026964902877808,\n",
       "  0.8827261328697205,\n",
       "  0.8634967803955078,\n",
       "  0.8454911708831787,\n",
       "  0.8279852271080017,\n",
       "  0.8125776648521423,\n",
       "  0.7972337007522583,\n",
       "  0.7825860381126404,\n",
       "  0.7679765224456787,\n",
       "  0.7540937066078186,\n",
       "  0.7408750057220459,\n",
       "  0.7283743619918823,\n",
       "  0.7164285778999329,\n",
       "  0.7047153115272522,\n",
       "  0.6939084529876709,\n",
       "  0.6832719445228577,\n",
       "  0.6738120913505554,\n",
       "  0.6641818881034851,\n",
       "  0.6545619368553162,\n",
       "  0.6457909345626831,\n",
       "  0.6377354860305786,\n",
       "  0.630754292011261,\n",
       "  0.6230193972587585,\n",
       "  0.6164506673812866],\n",
       " 'val_accuracy': [0.10833333432674408,\n",
       "  0.13333334028720856,\n",
       "  0.15000000596046448,\n",
       "  0.22499999403953552,\n",
       "  0.34166666865348816,\n",
       "  0.32499998807907104,\n",
       "  0.32499998807907104,\n",
       "  0.3333333432674408,\n",
       "  0.4166666567325592,\n",
       "  0.3916666805744171,\n",
       "  0.40833333134651184,\n",
       "  0.4416666626930237,\n",
       "  0.4333333373069763,\n",
       "  0.4833333194255829,\n",
       "  0.4583333432674408,\n",
       "  0.46666666865348816,\n",
       "  0.4749999940395355,\n",
       "  0.4833333194255829,\n",
       "  0.5,\n",
       "  0.5,\n",
       "  0.5,\n",
       "  0.5166666507720947,\n",
       "  0.5166666507720947,\n",
       "  0.5166666507720947,\n",
       "  0.5666666626930237,\n",
       "  0.5666666626930237,\n",
       "  0.5833333134651184,\n",
       "  0.6000000238418579,\n",
       "  0.6166666746139526,\n",
       "  0.6083333492279053,\n",
       "  0.6166666746139526,\n",
       "  0.625,\n",
       "  0.6499999761581421,\n",
       "  0.6666666865348816,\n",
       "  0.6833333373069763,\n",
       "  0.6916666626930237,\n",
       "  0.6916666626930237,\n",
       "  0.7166666388511658,\n",
       "  0.7166666388511658,\n",
       "  0.7166666388511658,\n",
       "  0.7166666388511658,\n",
       "  0.7250000238418579,\n",
       "  0.7250000238418579,\n",
       "  0.7333333492279053,\n",
       "  0.7250000238418579,\n",
       "  0.7333333492279053,\n",
       "  0.7416666746139526,\n",
       "  0.7583333253860474,\n",
       "  0.7583333253860474,\n",
       "  0.7666666507720947,\n",
       "  0.7749999761581421,\n",
       "  0.7916666865348816,\n",
       "  0.7916666865348816,\n",
       "  0.7916666865348816,\n",
       "  0.7916666865348816,\n",
       "  0.7916666865348816,\n",
       "  0.7916666865348816,\n",
       "  0.800000011920929,\n",
       "  0.800000011920929,\n",
       "  0.7916666865348816]}"
      ]
     },
     "execution_count": 45,
     "metadata": {},
     "output_type": "execute_result"
    }
   ],
   "source": [
    "history.history"
   ]
  },
  {
   "attachments": {},
   "cell_type": "markdown",
   "metadata": {},
   "source": [
    "下面将可视化上述数值:"
   ]
  },
  {
   "cell_type": "code",
   "execution_count": 46,
   "metadata": {},
   "outputs": [
    {
     "name": "stderr",
     "output_type": "stream",
     "text": [
      "C:\\Users\\lijunhao\\AppData\\Local\\Temp\\ipykernel_24012\\973814028.py:5: SettingWithCopyWarning: \n",
      "A value is trying to be set on a copy of a slice from a DataFrame\n",
      "\n",
      "See the caveats in the documentation: https://pandas.pydata.org/pandas-docs/stable/user_guide/indexing.html#returning-a-view-versus-a-copy\n",
      "  df_loss.rename(columns={'loss':'train','val_loss':'validation'},inplace=True)\n",
      "C:\\Users\\lijunhao\\AppData\\Local\\Temp\\ipykernel_24012\\973814028.py:7: SettingWithCopyWarning: \n",
      "A value is trying to be set on a copy of a slice from a DataFrame\n",
      "\n",
      "See the caveats in the documentation: https://pandas.pydata.org/pandas-docs/stable/user_guide/indexing.html#returning-a-view-versus-a-copy\n",
      "  df_acc.rename(columns={'accuracy':'train','val_accuracy':'validation'},inplace=True)\n"
     ]
    },
    {
     "data": {
      "text/plain": [
       "[Text(0.5, 0, 'Epoch'), Text(0, 0.5, 'Accuracy')]"
      ]
     },
     "execution_count": 46,
     "metadata": {},
     "output_type": "execute_result"
    },
    {
     "data": {
      "image/png": "[encoded data removed]",
      "text/plain": [
       "<Figure size 1200x800 with 1 Axes>"
      ]
     },
     "metadata": {},
     "output_type": "display_data"
    },
    {
     "data": {
      "image/png": "[encoded data removed]",
      "text/plain": [
       "<Figure size 1200x800 with 1 Axes>"
      ]
     },
     "metadata": {},
     "output_type": "display_data"
    }
   ],
   "source": [
    "# The history.history[\"loss\"] entry is a dictionary with as many values as epochs that the\n",
    "# model was trained on. \n",
    "df_loss_acc = pd.DataFrame(history.history)\n",
    "df_loss= df_loss_acc[['loss','val_loss']]\n",
    "df_loss.rename(columns={'loss':'train','val_loss':'validation'},inplace=True)\n",
    "df_acc= df_loss_acc[['accuracy','val_accuracy']]\n",
    "df_acc.rename(columns={'accuracy':'train','val_accuracy':'validation'},inplace=True)\n",
    "df_loss.plot(title='Model loss',figsize=(12,8)).set(xlabel='Epoch',ylabel='Loss')\n",
    "df_acc.plot(title='Model Accuracy',figsize=(12,8)).set(xlabel='Epoch',ylabel='Accuracy')"
   ]
  },
  {
   "attachments": {},
   "cell_type": "markdown",
   "metadata": {},
   "source": [
    "**Congratulations**! You've finished the assignment and built two models: One that recognizes  smiles, and another that recognizes SIGN language with almost 80% accuracy on the test set. In addition to that, you now also understand the applications of two Keras APIs: Sequential and Functional. Nicely done! \n",
    "\n",
    "By now, you know a bit about how the Functional API works and may have glimpsed the possibilities. In your next assignment, you'll really get a feel for its power when you get the opportunity to build a very deep ConvNet, using ResNets! "
   ]
  },
  {
   "attachments": {},
   "cell_type": "markdown",
   "metadata": {},
   "source": [
    "<a name='6'></a>\n",
    "## 6 - Bibliography\n",
    "\n",
    "You're always encouraged to read the official documentation. To that end, you can find the docs for the Sequential and Functional APIs here: \n",
    "\n",
    "https://www.tensorflow.org/guide/keras/sequential_model\n",
    "\n",
    "https://www.tensorflow.org/guide/keras/functional"
   ]
  }
 ],
 "metadata": {
  "coursera": {
   "course_slug": "convolutional-neural-networks",
   "graded_item_id": "bwbJV",
   "launcher_item_id": "0TkXB"
  },
  "kernelspec": {
   "display_name": "Python 3 (ipykernel)",
   "language": "python",
   "name": "python3"
  },
  "language_info": {
   "codemirror_mode": {
    "name": "ipython",
    "version": 3
   },
   "file_extension": ".py",
   "mimetype": "text/x-python",
   "name": "python",
   "nbconvert_exporter": "python",
   "pygments_lexer": "ipython3",
   "version": "3.8.16"
  }
 },
 "nbformat": 4,
 "nbformat_minor": 2
}
